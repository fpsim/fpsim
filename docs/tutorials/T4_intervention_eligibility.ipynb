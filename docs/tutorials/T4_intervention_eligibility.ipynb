{
 "cells": [
  {
   "cell_type": "markdown",
   "id": "cfd7a162-635b-4530-af4e-884cee7526da",
   "metadata": {},
   "source": [
    "# Getting started - Requirements\n",
    "Python (🐍):  This assumes that you have a python environment installed. If you haven't, we recommend installing [Anaconda](https://docs.anaconda.com/anaconda/install/).\n",
    "\n",
    "FPsim (♀️): This tutorial uses [FPsim v2.0](https://github.com/fpsim/fpsim/tree/rc2.0-methodtime) (still under development). \n",
    "\n",
    "To install, you first need to clone or download the a copy of the source code from https://github.com/starsimhub/typhoidsim\n",
    " \n",
    "```\n",
    "git clone -b rc2.0-methodtime --single-branch https://github.com/fpsim/fpsim.git\n",
    "cd fpsim\n",
    "pip install -e .\n",
    "```\n",
    "\n",
    "If it worked, you should be able to import typhoidsim with `import fpsim as fp`."
   ]
  },
  {
   "cell_type": "markdown",
   "id": "a7af8d5b-d26d-4c1e-a0e3-7d7bb4a45e42",
   "metadata": {},
   "source": [
    "## Interventions - how to select a specific subpopulation (eligibilty)?\n",
    "\n",
    "At this point, you should now be able to run multiple simulations with distinct interventions, using default or custom parameters and plot the results. So far we've seen interventions that target a model parameter. Now we will see how we can we specify a function that tells FPsim who will receive the intervention. In particular, we will update the state value (e.g., intent_to_use) of all eligible women. \n"
   ]
  },
  {
   "cell_type": "markdown",
   "id": "e8247bce-55ce-4105-b7c5-acb5a578510b",
   "metadata": {},
   "source": [
    "### Change the intent to use contraception of some women"
   ]
  },
  {
   "cell_type": "code",
   "execution_count": null,
   "id": "10fdb6b0-160c-4a7b-8576-fd0657d5db82",
   "metadata": {},
   "outputs": [],
   "source": [
    "import fpsim as fp\n",
    "import sciris as sc"
   ]
  },
  {
   "cell_type": "code",
   "execution_count": null,
   "id": "42fab926-7b04-4521-9d4e-0fffd7f1204e",
   "metadata": {},
   "outputs": [],
   "source": [
    "pars = dict(\n",
    "    n_agents   = 1_000,\n",
    "    location   = 'kenya',\n",
    "    start_year = 2000, \n",
    "    end_year   = 2020,\n",
    "    exposure_factor = 1.0  # Overall scale factor on probability of becoming pregnant\n",
    ")\n"
   ]
  },
  {
   "cell_type": "markdown",
   "id": "25efc04e-4877-4942-82d3-04410c15a953",
   "metadata": {},
   "source": [
    "We now define who will have their intent changed  "
   ]
  },
  {
   "cell_type": "code",
   "execution_count": null,
   "id": "32ed1e00-097d-4491-9381-60c957a0606c",
   "metadata": {},
   "outputs": [],
   "source": [
    "def eligibility_criteria(sim):\n",
    "    \"\"\" Select women aged 18 <= age < 25 who currently do not have intent to use contraception\"\"\"\n",
    "    min_age = 18\n",
    "    max_age = 25\n",
    "    is_eligible = ((sim.people.is_female) &\n",
    "                   (sim.people.age >= min_age) &\n",
    "                   (sim.people.age < max_age) &\n",
    "                   (sim.people.intent_to_use == False))\n",
    "    return is_eligible"
   ]
  },
  {
   "cell_type": "code",
   "execution_count": null,
   "id": "65385d2c-643d-429e-b10e-a57456d7821e",
   "metadata": {},
   "outputs": [],
   "source": [
    "# This intervention will set the intent of eligible women to True in the year 2005\n",
    "change_intent = fp.change_people_state('intent_to_use', eligibility=eligibility_criteria, year=2005.0, new_val=True)"
   ]
  },
  {
   "cell_type": "code",
   "execution_count": null,
   "id": "2b83f7fa-5acd-40e6-9ba0-b99846cab000",
   "metadata": {},
   "outputs": [],
   "source": [
    "s1 = fp.Sim(pars=pars, label='Baseline')\n",
    "s2 = fp.Sim(pars=pars, interventions=change_intent, label='Increased intent')\n",
    "simlist = sc.autolist([s1, s2])\n",
    "msim = fp.MultiSim(sims=simlist)\n",
    "msim.run(serial=True)"
   ]
  },
  {
   "cell_type": "code",
   "execution_count": null,
   "id": "ef02e52f-4393-434b-88ce-89170031d338",
   "metadata": {},
   "outputs": [],
   "source": [
    "msim.plot(to_plot='intent');"
   ]
  },
  {
   "cell_type": "markdown",
   "id": "28f054ba-c61f-44fe-901d-76516cb684ff",
   "metadata": {},
   "source": [
    "### Increase the number of women who have paid work\n",
    "\n",
    "The same intervention can be used to change other 'states' or attributes of women. Let's see how we could increase the number of women who have paid work. "
   ]
  },
  {
   "cell_type": "code",
   "execution_count": null,
   "id": "5cf1e833-e198-441c-884f-9cc5f297241b",
   "metadata": {},
   "outputs": [],
   "source": [
    "def select_unemployed(sim):\n",
    "    \"\"\" Select women aged 15 <= age < 50 who currently do not have paid work\"\"\"\n",
    "    min_age = 15\n",
    "    max_age = 50\n",
    "    is_eligible = ((sim.people.is_female) &\n",
    "                   (sim.people.age >= min_age) &\n",
    "                   (sim.people.age < max_age) &\n",
    "                   (sim.people.paid_employment == False))\n",
    "    return is_eligible"
   ]
  },
  {
   "cell_type": "code",
   "execution_count": null,
   "id": "b603ae96-0bce-4a72-8389-5eaac519a075",
   "metadata": {},
   "outputs": [],
   "source": [
    "empwr = fp.Empowerment()\n",
    "s3 = fp.Sim(pars=pars, empowerment_module=empwr, analyzers=fp.empowerment_recorder(bins=[0, 200]), label='Increased employment')\n",
    "s3.run()"
   ]
  },
  {
   "cell_type": "code",
   "execution_count": null,
   "id": "9c7d5e36-5300-404c-86d2-16f717479537",
   "metadata": {},
   "outputs": [],
   "source": [
    "change_employment = fp.change_people_state('paid_employment', eligibility=select_unemployed, year=2010.0, new_val=True)\n",
    "empwr = fp.Empowerment()\n",
    "s4 = fp.Sim(pars=pars, \n",
    "            empowerment_module=empwr, \n",
    "            analyzers=fp.empowerment_recorder(bins=[0, 200]), \n",
    "            interventions=change_employment, label='Increased employment')\n",
    "s4.run()\n"
   ]
  },
  {
   "cell_type": "code",
   "execution_count": null,
   "id": "bda597aa-76b3-4607-a1cb-ad1639dd4106",
   "metadata": {},
   "outputs": [],
   "source": [
    "analzr_s3 = s3.get_analyzer()\n",
    "analzr_s4 = s4.get_analyzer()"
   ]
  },
  {
   "cell_type": "code",
   "execution_count": null,
   "id": "b3f610bc-68ae-486b-8be6-0d17580644e3",
   "metadata": {},
   "outputs": [],
   "source": [
    "import matplotlib.pyplot as plt"
   ]
  },
  {
   "cell_type": "code",
   "execution_count": null,
   "id": "5a8e51df-d644-489e-ad7c-d10f3ed9f0be",
   "metadata": {},
   "outputs": [],
   "source": [
    "plt.plot(s3.tvec, analzr_s3.data['paid_employment'][0])\n",
    "plt.plot(s4.tvec, analzr_s4.data['paid_employment'][0])"
   ]
  }
 ],
 "metadata": {
  "kernelspec": {
   "display_name": "Python 3 (ipykernel)",
   "language": "python",
   "name": "python3"
  },
  "language_info": {
   "codemirror_mode": {
    "name": "ipython",
    "version": 3
   },
   "file_extension": ".py",
   "mimetype": "text/x-python",
   "name": "python",
   "nbconvert_exporter": "python",
   "pygments_lexer": "ipython3",
   "version": "3.10.12"
  }
 },
 "nbformat": 4,
 "nbformat_minor": 5
}
