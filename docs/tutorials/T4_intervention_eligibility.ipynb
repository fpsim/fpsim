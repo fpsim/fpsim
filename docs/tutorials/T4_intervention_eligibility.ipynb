{
 "cells": [
  {
   "cell_type": "markdown",
   "id": "cfd7a162-635b-4530-af4e-884cee7526da",
   "metadata": {},
   "source": [
    "# Getting started - Requirements\n",
    "Python (🐍):  This assumes that you have a python environment installed. If you haven't, we recommend installing [Anaconda](https://docs.anaconda.com/anaconda/install/).\n",
    "\n",
    "FPsim (♀️): This tutorial uses [FPsim v2.0](https://github.com/fpsim/fpsim/tree/rc2.0-methodtime) (still under development). \n",
    "\n",
    "To install, you first need to clone or download the a copy of the source code from https://github.com/fpsim/fpsim\n",
    " \n",
    "```\n",
    "git clone -b rc2.0-methodtime --single-branch https://github.com/fpsim/fpsim.git\n",
    "cd fpsim\n",
    "pip install -e .\n",
    "```\n",
    "\n",
    "If it worked, you should be able to import fpsim with `import fpsim as fp`."
   ]
  },
  {
   "cell_type": "markdown",
   "id": "5f62ecb3",
   "metadata": {},
   "source": [
    "<div class=\"alert alert-info\">\n",
    "    \n",
    "An interactive version of this notebook is available on [Google Colab](https://colab.research.google.com/github/fpsim/fpsim/blob/main/docs/tutorials/T4_intervention_eligibility.ipynb?install=fpsim) or [Binder](https://mybinder.org/v2/gh/fpsim/fpsim/HEAD?labpath=docs%2Ftutorials%2FT4_intervention_eligibility.ipynb).\n",
    "    \n",
    "</div>"
   ]
  },
  {
   "cell_type": "markdown",
   "id": "a7af8d5b-d26d-4c1e-a0e3-7d7bb4a45e42",
   "metadata": {},
   "source": [
    "## Interventions - how to select a specific subpopulation\n",
    "\n",
    "At this point, you should now be able to run multiple simulations with distinct interventions, using default or custom parameters and plot the results. So far we've seen interventions that target a model parameter. Now we will see how we can we specify a function that tells FPsim who will receive the intervention. In particular, we will modify the 'state' value (e.g., education) of all eligible women. \n"
   ]
  },
  {
   "cell_type": "code",
   "execution_count": null,
   "id": "10fdb6b0-160c-4a7b-8576-fd0657d5db82",
   "metadata": {},
   "outputs": [],
   "source": [
    "import fpsim as fp\n",
    "import sciris as sc\n",
    "import matplotlib.pyplot as plt"
   ]
  },
  {
   "cell_type": "code",
   "execution_count": null,
   "id": "42fab926-7b04-4521-9d4e-0fffd7f1204e",
   "metadata": {},
   "outputs": [],
   "source": [
    "pars = dict(\n",
    "    n_agents   = 1_000,\n",
    "    location   = 'kenya',\n",
    "    start_year = 2000, \n",
    "    end_year   = 2012,\n",
    "    exposure_factor = 1.0  # Overall scale factor on probability of becoming pregnant\n",
    ")\n"
   ]
  },
  {
   "cell_type": "markdown",
   "id": "28f054ba-c61f-44fe-901d-76516cb684ff",
   "metadata": {},
   "source": [
    "### Increase the number of women who have education\n",
    "\n",
    "The `change_people_state` intervention can be used to change 'states' or attributes of women. Let's see how we could increase the number of women who achieve their education goals."
   ]
  },
  {
   "cell_type": "code",
   "execution_count": null,
   "id": "5cf1e833-e198-441c-884f-9cc5f297241b",
   "metadata": {},
   "outputs": [],
   "source": [
    "def select_undereducated(sim):\n",
    "    \"\"\" Select women who have a goal to achieve at least 1 year of education \"\"\"\n",
    "    is_eligible = ((sim.people.is_female) &\n",
    "                   (sim.people.alive)     & \n",
    "                   (sim.people.edu_objective > 0))\n",
    "    return is_eligible"
   ]
  },
  {
   "cell_type": "code",
   "execution_count": null,
   "id": "b603ae96-0bce-4a72-8389-5eaac519a075",
   "metadata": {},
   "outputs": [],
   "source": [
    "edu = fp.Education()\n",
    "s0 = fp.Sim(pars=pars, education_module=edu, label='Baseline')"
   ]
  },
  {
   "cell_type": "code",
   "execution_count": null,
   "id": "9c7d5e36-5300-404c-86d2-16f717479537",
   "metadata": {},
   "outputs": [],
   "source": [
    "change_education = fp.change_people_state(\n",
    "                        'edu_attainment',\n",
    "                        eligibility=select_undereducated,\n",
    "                        years=2010.0,\n",
    "                        new_val=15,  # Give all selected women 15 years of education\n",
    "                    )\n",
    "edu = fp.Education()\n",
    "s1 = fp.Sim(pars=pars, \n",
    "            education_module=edu, \n",
    "            interventions=change_education,\n",
    "            label='Increased education')"
   ]
  },
  {
   "cell_type": "code",
   "execution_count": null,
   "id": "bda597aa-76b3-4607-a1cb-ad1639dd4106",
   "metadata": {},
   "outputs": [],
   "source": [
    "msim = fp.parallel(s0, s1)\n",
    "s0, s1 = msim.sims\n"
   ]
  },
  {
   "cell_type": "code",
   "execution_count": null,
   "id": "e1a1fa7b-8f7a-4e48-bf4f-922f9449d6d2",
   "metadata": {},
   "outputs": [],
   "source": [
    "plt.plot(s0.results.t, s0.results.edu_attainment, label=s0.label)\n",
    "plt.plot(s1.results.t, s1.results.edu_attainment, label=s1.label)\n",
    "plt.ylabel('Average years of education among women')\n",
    "plt.xlabel('Year')\n",
    "plt.legend()"
   ]
  }
 ],
 "metadata": {
  "kernelspec": {
   "display_name": "Python 3 (Spyder)",
   "language": "python3",
   "name": "python3"
  },
  "language_info": {
   "codemirror_mode": {
    "name": "ipython",
    "version": 3
   },
   "file_extension": ".py",
   "mimetype": "text/x-python",
   "name": "python",
   "nbconvert_exporter": "python",
   "pygments_lexer": "ipython3",
   "version": "3.12.3"
  }
 },
 "nbformat": 4,
 "nbformat_minor": 5
}
