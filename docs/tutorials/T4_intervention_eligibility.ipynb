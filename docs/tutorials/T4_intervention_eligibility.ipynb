{
 "cells": [
  {
   "cell_type": "markdown",
   "id": "5f62ecb3",
   "metadata": {},
   "source": [
    "<div class=\"alert alert-info\">\n",
    "    \n",
    "An interactive version of this notebook is available on [Google Colab](https://colab.research.google.com/github/fpsim/fpsim/blob/main/docs/tutorials/T4_intervention_eligibility.ipynb?install=fpsim) or [Binder](https://mybinder.org/v2/gh/fpsim/fpsim/HEAD?labpath=docs%2Ftutorials%2FT4_intervention_eligibility.ipynb).\n",
    "    \n",
    "</div>"
   ]
  },
  {
   "cell_type": "markdown",
   "id": "a7af8d5b-d26d-4c1e-a0e3-7d7bb4a45e42",
   "metadata": {},
   "source": [
    "# Select a specific subpopulation for an intervention\n",
    "\n",
    "At this point, you should now be able to run multiple simulations with distinct interventions, using default or custom parameters and plot the results. So far we've seen interventions that target a model parameter. Now we will see how we can we specify a function that tells FPsim who will receive the intervention. First, import the model and set your default settings."
   ]
  },
  {
   "cell_type": "code",
   "execution_count": null,
   "id": "10fdb6b0-160c-4a7b-8576-fd0657d5db82",
   "metadata": {},
   "outputs": [],
   "source": [
    "import fpsim as fp\n",
    "import sciris as sc\n",
    "import matplotlib.pyplot as plt"
   ]
  },
  {
   "cell_type": "code",
   "execution_count": null,
   "id": "42fab926-7b04-4521-9d4e-0fffd7f1204e",
   "metadata": {},
   "outputs": [],
   "source": [
    "pars = dict(\n",
    "    n_agents   = 1_000,\n",
    "    location   = 'kenya',\n",
    "    start_year = 2000, \n",
    "    end_year   = 2012,\n",
    "    exposure_factor = 1.0  # Overall scale factor on probability of becoming pregnant\n",
    ")"
   ]
  },
  {
   "cell_type": "markdown",
   "id": "f7a36e97-052e-435a-8355-8d00debc3bde",
   "metadata": {},
   "source": [
    "Now, we will modify a 'state' value of all eligible women. To see all the states you can select based on, run this code:"
   ]
  },
  {
   "cell_type": "code",
   "execution_count": null,
   "id": "e6c95818-1ca7-453b-b49f-9e7955c5bbf0",
   "metadata": {},
   "outputs": [],
   "source": [
    "from fpsim.defaults import person_defaults\n",
    "for i, state in enumerate(person_defaults): print(f\"{i}: {state.name}\")"
   ]
  },
  {
   "cell_type": "markdown",
   "id": "28f054ba-c61f-44fe-901d-76516cb684ff",
   "metadata": {},
   "source": [
    "## Increase the number of women who have education\n",
    "\n",
    "The `change_people_state` intervention can be used to change 'states' or attributes of women. The states you can change are the same list of target states from above. Let's see what would hapen if we increase education. In FPsim, education is defined based on an education objective and education attainment. The education objective is given to each woman when she enters the model. During her school age years, she gains one year of educationl attainment each year until she reaches her objective. This trajectory can be interrupted if she experiences a pregnancy during those years. \n",
    "\n",
    "First, we will identify our eligible subpopulation for this intervention. In this case, we are selecting all women who have a goal to achieve at least one year of education."
   ]
  },
  {
   "cell_type": "code",
   "execution_count": null,
   "id": "5cf1e833-e198-441c-884f-9cc5f297241b",
   "metadata": {},
   "outputs": [],
   "source": [
    "def select_undereducated(sim):\n",
    "    \"\"\" Select women who have a goal to achieve at least 1 year of education \"\"\"\n",
    "    is_eligible = ((sim.people.female) &\n",
    "                   (sim.people.alive)     & \n",
    "                   (sim.people.edu.objective > 0))\n",
    "    return is_eligible"
   ]
  },
  {
   "cell_type": "markdown",
   "id": "2d623af5-a126-4d01-880b-4ee4dfa7d37a",
   "metadata": {},
   "source": [
    "Now, define a baseline simulation, s0, with no changes."
   ]
  },
  {
   "cell_type": "code",
   "execution_count": null,
   "id": "b603ae96-0bce-4a72-8389-5eaac519a075",
   "metadata": {},
   "outputs": [],
   "source": [
    "edu = fp.Education()\n",
    "s0 = fp.Sim(pars=pars, education_module=edu, label='Baseline')"
   ]
  },
  {
   "cell_type": "markdown",
   "id": "25b045ee-5519-4e54-b56f-125ae756644b",
   "metadata": {},
   "source": [
    "Next, we define our education change intervention. This intervention finds all of the eligible women (those with a goal of achieveing at least 1 year of education), and gives all of them 15 years of education, starting in the year 2010. We define a simulation, s1, with this educaiton intervention."
   ]
  },
  {
   "cell_type": "code",
   "execution_count": null,
   "id": "9c7d5e36-5300-404c-86d2-16f717479537",
   "metadata": {},
   "outputs": [],
   "source": [
    "change_education = fp.change_people_state(\n",
    "                        'edu.attainment',\n",
    "                        eligibility=select_undereducated,\n",
    "                        years=2010.0,\n",
    "                        new_val=15,  # Give all selected women 15 years of education\n",
    "                    )\n",
    "edu = fp.Education()\n",
    "s1 = fp.Sim(pars=pars, \n",
    "            education_module=edu, \n",
    "            interventions=change_education,\n",
    "            label='Increased education')"
   ]
  },
  {
   "cell_type": "markdown",
   "id": "31bcce3f-9fb1-465c-a5c2-58d6dbb04e9b",
   "metadata": {},
   "source": [
    "Run a multile simulation run with msim to get the results of both of these simulations."
   ]
  },
  {
   "cell_type": "code",
   "execution_count": null,
   "id": "bda597aa-76b3-4607-a1cb-ad1639dd4106",
   "metadata": {},
   "outputs": [],
   "source": [
    "msim = fp.MultiSim(sims=[s0, s1])\n",
    "msim.run(parallel=False, compute_stats=False)\n",
    "s0, s1 = msim.sims"
   ]
  },
  {
   "cell_type": "markdown",
   "id": "fb070fd3-b703-411e-82f9-d638727ccca3",
   "metadata": {},
   "source": [
    "Plot the resulting education levels."
   ]
  },
  {
   "cell_type": "code",
   "execution_count": null,
   "id": "e1a1fa7b-8f7a-4e48-bf4f-922f9449d6d2",
   "metadata": {},
   "outputs": [],
   "source": [
    "plt.plot(s0.results.timevec, s0.results.edu.mean_attainment, label=s0.label)\n",
    "plt.plot(s1.results.timevec, s1.results.edu.mean_attainment, label=s1.label)\n",
    "plt.ylabel('Average years of education among women')\n",
    "plt.xlabel('Year')\n",
    "plt.legend()"
   ]
  }
 ],
 "metadata": {
  "kernelspec": {
   "display_name": "Python 3 (Spyder)",
   "language": "python3",
   "name": "python3"
  },
  "language_info": {
   "codemirror_mode": {
    "name": "ipython",
    "version": 3
   },
   "file_extension": ".py",
   "mimetype": "text/x-python",
   "name": "python",
   "nbconvert_exporter": "python",
   "pygments_lexer": "ipython3",
   "version": "3.12.3"
  }
 },
 "nbformat": 4,
 "nbformat_minor": 5
}
