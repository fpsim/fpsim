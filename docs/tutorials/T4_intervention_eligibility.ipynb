{
 "cells": [
  {
   "cell_type": "markdown",
   "id": "cfd7a162-635b-4530-af4e-884cee7526da",
   "metadata": {},
   "source": [
    "# Getting started - Requirements\n",
    "Python (🐍):  This assumes that you have a python environment installed. If you haven't, we recommend installing [Anaconda](https://docs.anaconda.com/anaconda/install/).\n",
    "\n",
    "FPsim (♀️): This tutorial uses [FPsim v2.0](https://github.com/fpsim/fpsim/tree/rc2.0-methodtime). \n",
    "\n",
    "To install, you first need to clone or download the a copy of the source code from https://github.com/fpsim/fpsim\n",
    " \n",
    "```\n",
    "git clone -b rc2.0-methodtime --single-branch https://github.com/fpsim/fpsim.git\n",
    "cd fpsim\n",
    "pip install -e .\n",
    "```\n",
    "\n",
    "If it worked, you should be able to import fpsim with `import fpsim as fp`."
   ]
  },
  {
   "cell_type": "markdown",
   "id": "5f62ecb3",
   "metadata": {},
   "source": [
    "<div class=\"alert alert-info\">\n",
    "    \n",
    "An interactive version of this notebook is available on [Google Colab](https://colab.research.google.com/github/fpsim/fpsim/blob/main/docs/tutorials/T4_intervention_eligibility.ipynb?install=fpsim) or [Binder](https://mybinder.org/v2/gh/fpsim/fpsim/HEAD?labpath=docs%2Ftutorials%2FT4_intervention_eligibility.ipynb).\n",
    "    \n",
    "</div>"
   ]
  },
  {
   "cell_type": "markdown",
   "id": "a7af8d5b-d26d-4c1e-a0e3-7d7bb4a45e42",
   "metadata": {},
   "source": [
    "# Select a specific subpopulation for an intervention\n",
    "\n",
    "At this point, you should now be able to run multiple simulations with distinct interventions, using default or custom parameters and plot the results. So far we've seen interventions that target a model parameter. Now we will see how we can we specify a function that tells FPsim who will receive the intervention. First, import the model and set your default settings."
   ]
  },
  {
   "cell_type": "code",
   "id": "10fdb6b0-160c-4a7b-8576-fd0657d5db82",
   "metadata": {
    "ExecuteTime": {
     "end_time": "2025-04-14T22:43:50.942808Z",
     "start_time": "2025-04-14T22:43:50.935797Z"
    }
   },
   "source": [
    "import fpsim as fp\n",
    "import sciris as sc\n",
    "import matplotlib.pyplot as plt"
   ],
   "outputs": [],
   "execution_count": 6
  },
  {
   "cell_type": "code",
   "id": "42fab926-7b04-4521-9d4e-0fffd7f1204e",
   "metadata": {
    "ExecuteTime": {
     "end_time": "2025-04-14T22:43:50.990794Z",
     "start_time": "2025-04-14T22:43:50.971798Z"
    }
   },
   "source": [
    "pars = dict(\n",
    "    n_agents   = 1_000,\n",
    "    location   = 'kenya',\n",
    "    start_year = 2000, \n",
    "    end_year   = 2012,\n",
    "    exposure_factor = 1.0  # Overall scale factor on probability of becoming pregnant\n",
    ")"
   ],
   "outputs": [],
   "execution_count": 7
  },
  {
   "cell_type": "markdown",
   "id": "f7a36e97-052e-435a-8355-8d00debc3bde",
   "metadata": {},
   "source": [
    "Now, we will modify a 'state' value of all eligible women. To see all the states you can select based on, run this code:"
   ]
  },
  {
   "cell_type": "code",
   "id": "e6c95818-1ca7-453b-b49f-9e7955c5bbf0",
   "metadata": {
    "ExecuteTime": {
     "end_time": "2025-04-14T22:43:51.239887Z",
     "start_time": "2025-04-14T22:43:51.099887Z"
    }
   },
   "source": [
    "from fpsim.defaults import person_defaults\n",
    "for i, state in enumerate(person_defaults): print(f\"{i}: {state.name}\")"
   ],
   "outputs": [
    {
     "name": "stdout",
     "output_type": "stream",
     "text": [
      "0: on_contra\n",
      "1: method\n",
      "2: ti_contra\n",
      "3: barrier\n",
      "4: ever_used_contra\n",
      "5: parity\n",
      "6: pregnant\n",
      "7: fertile\n",
      "8: sexually_active\n",
      "9: sexual_debut\n",
      "10: sexual_debut_age\n",
      "11: fated_debut\n",
      "12: first_birth_age\n",
      "13: lactating\n",
      "14: gestation\n",
      "15: preg_dur\n",
      "16: stillbirth\n",
      "17: miscarriage\n",
      "18: abortion\n",
      "19: pregnancies\n",
      "20: months_inactive\n",
      "21: postpartum\n",
      "22: mothers\n",
      "23: short_interval\n",
      "24: secondary_birth\n",
      "25: postpartum_dur\n",
      "26: lam\n",
      "27: breastfeed_dur\n",
      "28: breastfeed_dur_total\n",
      "29: remainder_months\n",
      "30: personal_fecundity\n",
      "31: paid_employment\n",
      "32: decision_wages\n",
      "33: decision_health\n",
      "34: decision_purchase\n",
      "35: buy_decision_major\n",
      "36: buy_decision_daily\n",
      "37: buy_decision_clothes\n",
      "38: decide_spending_partner\n",
      "39: has_savings\n",
      "40: has_fin_knowl\n",
      "41: has_fin_goals\n",
      "42: sexual_autonomy\n",
      "43: financial_autonomy\n",
      "44: decision_making\n",
      "45: fertility_intent\n",
      "46: categorical_intent\n",
      "47: intent_to_use\n",
      "48: partnered\n",
      "49: partnership_age\n",
      "50: urban\n",
      "51: wealthquintile\n",
      "52: edu_objective\n",
      "53: edu_attainment\n",
      "54: edu_dropout\n",
      "55: edu_interrupted\n",
      "56: edu_completed\n",
      "57: edu_started\n",
      "58: birth_ages\n",
      "59: stillborn_ages\n",
      "60: miscarriage_ages\n",
      "61: abortion_ages\n"
     ]
    }
   ],
   "execution_count": 8
  },
  {
   "cell_type": "markdown",
   "id": "28f054ba-c61f-44fe-901d-76516cb684ff",
   "metadata": {},
   "source": [
    "## Increase the number of women who have education\n",
    "\n",
    "The `change_people_state` intervention can be used to change 'states' or attributes of women. The states you can change are the same list of target states from above. Let's see what would hapen if we increase education. In FPsim, education is defined based on an education objective and education attainment. The education objective is given to each woman when she enters the model. During her school age years, she gains one year of educationl attainment each year until she reaches her objective. This trajectory can be interrupted if she experiences a pregnancy during those years. \n",
    "\n",
    "First, we will identify our eligible subpopulation for this intervention. In this case, we are selecting all women who have a goal to achieve at least one year of education."
   ]
  },
  {
   "cell_type": "code",
   "id": "5cf1e833-e198-441c-884f-9cc5f297241b",
   "metadata": {
    "ExecuteTime": {
     "end_time": "2025-04-14T22:43:51.334890Z",
     "start_time": "2025-04-14T22:43:51.313886Z"
    }
   },
   "source": [
    "def select_undereducated(sim):\n",
    "    \"\"\" Select women who have a goal to achieve at least 1 year of education \"\"\"\n",
    "    is_eligible = ((sim.people.female) &\n",
    "                   (sim.people.alive)     & \n",
    "                   (sim.people.edu_objective > 0))\n",
    "    return is_eligible"
   ],
   "outputs": [],
   "execution_count": 9
  },
  {
   "cell_type": "markdown",
   "id": "2d623af5-a126-4d01-880b-4ee4dfa7d37a",
   "metadata": {},
   "source": [
    "Now, define a baseline simulation, s0, with no changes."
   ]
  },
  {
   "cell_type": "code",
   "id": "b603ae96-0bce-4a72-8389-5eaac519a075",
   "metadata": {
    "ExecuteTime": {
     "end_time": "2025-04-14T22:43:51.677682Z",
     "start_time": "2025-04-14T22:43:51.400889Z"
    }
   },
   "source": [
    "edu = fp.Education()\n",
    "s0 = fp.Sim(pars=pars, education_module=edu, label='Baseline')"
   ],
   "outputs": [],
   "execution_count": 10
  },
  {
   "cell_type": "markdown",
   "id": "25b045ee-5519-4e54-b56f-125ae756644b",
   "metadata": {},
   "source": [
    "Next, we define our education change intervention. This intervention finds all of the eligible women (those with a goal of achieveing at least 1 year of education), and gives all of them 15 years of education, starting in the year 2010. We define a simulation, s1, with this educaiton intervention."
   ]
  },
  {
   "cell_type": "code",
   "id": "9c7d5e36-5300-404c-86d2-16f717479537",
   "metadata": {
    "ExecuteTime": {
     "end_time": "2025-04-14T22:43:52.129515Z",
     "start_time": "2025-04-14T22:43:51.853517Z"
    }
   },
   "source": [
    "change_education = fp.change_people_state(\n",
    "                        'edu_attainment',\n",
    "                        eligibility=select_undereducated,\n",
    "                        years=2010.0,\n",
    "                        new_val=15,  # Give all selected women 15 years of education\n",
    "                    )\n",
    "edu = fp.Education()\n",
    "s1 = fp.Sim(pars=pars, \n",
    "            education_module=edu, \n",
    "            interventions=change_education,\n",
    "            label='Increased education')"
   ],
   "outputs": [],
   "execution_count": 11
  },
  {
   "cell_type": "markdown",
   "id": "31bcce3f-9fb1-465c-a5c2-58d6dbb04e9b",
   "metadata": {},
   "source": [
    "Run a multile simulation run with msim to get the results of both of these simulations."
   ]
  },
  {
   "cell_type": "code",
   "id": "bda597aa-76b3-4607-a1cb-ad1639dd4106",
   "metadata": {
    "ExecuteTime": {
     "end_time": "2025-04-14T22:44:02.920459Z",
     "start_time": "2025-04-14T22:43:52.178502Z"
    }
   },
   "source": [
    "msim = fp.parallel(s0, s1)\n",
    "s0, s1 = msim.sims"
   ],
   "outputs": [],
   "execution_count": 12
  },
  {
   "cell_type": "markdown",
   "id": "fb070fd3-b703-411e-82f9-d638727ccca3",
   "metadata": {},
   "source": [
    "Plot the resulting education levels."
   ]
  },
  {
   "cell_type": "code",
   "id": "e1a1fa7b-8f7a-4e48-bf4f-922f9449d6d2",
   "metadata": {
    "ExecuteTime": {
     "end_time": "2025-04-14T22:44:40.729318Z",
     "start_time": "2025-04-14T22:44:40.361625Z"
    }
   },
   "source": [
    "plt.plot(s0.results.timevec, s0.results.edu_attainment, label=s0.label)\n",
    "plt.plot(s1.results.timevec, s1.results.edu_attainment, label=s1.label)\n",
    "plt.ylabel('Average years of education among women')\n",
    "plt.xlabel('Year')\n",
    "plt.legend()"
   ],
   "outputs": [
    {
     "data": {
      "text/plain": [
       "<matplotlib.legend.Legend at 0x18d6ed2e940>"
      ]
     },
     "execution_count": 14,
     "metadata": {},
     "output_type": "execute_result"
    },
    {
     "data": {
      "text/plain": [
       "<Figure size 640x480 with 1 Axes>"
      ],
      "image/png": "[encoded data removed]"
     },
     "metadata": {},
     "output_type": "display_data"
    }
   ],
   "execution_count": 14
  }
 ],
 "metadata": {
  "kernelspec": {
   "display_name": "Python 3 (Spyder)",
   "language": "python3",
   "name": "python3"
  },
  "language_info": {
   "codemirror_mode": {
    "name": "ipython",
    "version": 3
   },
   "file_extension": ".py",
   "mimetype": "text/x-python",
   "name": "python",
   "nbconvert_exporter": "python",
   "pygments_lexer": "ipython3",
   "version": "3.12.3"
  }
 },
 "nbformat": 4,
 "nbformat_minor": 5
}
