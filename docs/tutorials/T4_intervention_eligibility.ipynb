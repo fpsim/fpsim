{
 "cells": [
  {
   "cell_type": "markdown",
   "id": "cfd7a162-635b-4530-af4e-884cee7526da",
   "metadata": {},
   "source": [
    "# Getting started - Requirements\n",
    "Python (🐍):  This assumes that you have a python environment installed. If you haven't, we recommend installing [Anaconda](https://docs.anaconda.com/anaconda/install/).\n",
    "\n",
    "FPsim (♀️): This tutorial uses [FPsim v2.0](https://github.com/fpsim/fpsim/tree/rc2.0-methodtime). \n",
    "\n",
    "To install, you first need to clone or download the a copy of the source code from https://github.com/fpsim/fpsim\n",
    " \n",
    "```\n",
    "git clone -b rc2.0-methodtime --single-branch https://github.com/fpsim/fpsim.git\n",
    "cd fpsim\n",
    "pip install -e .\n",
    "```\n",
    "\n",
    "If it worked, you should be able to import fpsim with `import fpsim as fp`."
   ]
  },
  {
   "cell_type": "markdown",
   "id": "5f62ecb3",
   "metadata": {},
   "source": [
    "<div class=\"alert alert-info\">\n",
    "    \n",
    "An interactive version of this notebook is available on [Google Colab](https://colab.research.google.com/github/fpsim/fpsim/blob/main/docs/tutorials/T4_intervention_eligibility.ipynb?install=fpsim) or [Binder](https://mybinder.org/v2/gh/fpsim/fpsim/HEAD?labpath=docs%2Ftutorials%2FT4_intervention_eligibility.ipynb).\n",
    "    \n",
    "</div>"
   ]
  },
  {
   "cell_type": "markdown",
   "id": "a7af8d5b-d26d-4c1e-a0e3-7d7bb4a45e42",
   "metadata": {},
   "source": [
    "## Interventions - how to select a specific subpopulation\n",
    "\n",
    "At this point, you should now be able to run multiple simulations with distinct interventions, using default or custom parameters and plot the results. So far we've seen interventions that target a model parameter. Now we will see how we can we specify a function that tells FPsim who will receive the intervention. First, import the model and set your default settings."
   ]
  },
  {
   "cell_type": "code",
   "execution_count": 4,
   "id": "10fdb6b0-160c-4a7b-8576-fd0657d5db82",
   "metadata": {},
   "outputs": [
    {
     "name": "stdout",
     "output_type": "stream",
     "text": [
      "Starsim 2.0.0 (2024-10-01) — © 2023-2024 by IDM\n"
     ]
    }
   ],
   "source": [
    "import fpsim as fp\n",
    "import sciris as sc\n",
    "import matplotlib.pyplot as plt"
   ]
  },
  {
   "cell_type": "code",
   "execution_count": 5,
   "id": "42fab926-7b04-4521-9d4e-0fffd7f1204e",
   "metadata": {},
   "outputs": [],
   "source": [
    "pars = dict(\n",
    "    n_agents   = 1_000,\n",
    "    location   = 'kenya',\n",
    "    start_year = 2000, \n",
    "    end_year   = 2012,\n",
    "    exposure_factor = 1.0  # Overall scale factor on probability of becoming pregnant\n",
    ")"
   ]
  },
  {
   "cell_type": "markdown",
   "id": "f7a36e97-052e-435a-8355-8d00debc3bde",
   "metadata": {},
   "source": [
    "Now, we will modify a 'state' value of all eligible women. To see all the states you can select based on, run this code:"
   ]
  },
  {
   "cell_type": "code",
   "execution_count": 7,
   "id": "e6c95818-1ca7-453b-b49f-9e7955c5bbf0",
   "metadata": {},
   "outputs": [
    {
     "name": "stdout",
     "output_type": "stream",
     "text": [
      "0: uid\n",
      "1: age\n",
      "2: age_by_group\n",
      "3: sex\n",
      "4: alive\n",
      "5: on_contra\n",
      "6: method\n",
      "7: ti_contra\n",
      "8: barrier\n",
      "9: ever_used_contra\n",
      "10: parity\n",
      "11: pregnant\n",
      "12: fertile\n",
      "13: sexually_active\n",
      "14: sexual_debut\n",
      "15: sexual_debut_age\n",
      "16: fated_debut\n",
      "17: first_birth_age\n",
      "18: lactating\n",
      "19: gestation\n",
      "20: preg_dur\n",
      "21: stillbirth\n",
      "22: miscarriage\n",
      "23: abortion\n",
      "24: pregnancies\n",
      "25: months_inactive\n",
      "26: postpartum\n",
      "27: mothers\n",
      "28: short_interval\n",
      "29: secondary_birth\n",
      "30: postpartum_dur\n",
      "31: lam\n",
      "32: breastfeed_dur\n",
      "33: breastfeed_dur_total\n",
      "34: remainder_months\n",
      "35: personal_fecundity\n",
      "36: paid_employment\n",
      "37: decision_wages\n",
      "38: decision_health\n",
      "39: decision_purchase\n",
      "40: buy_decision_major\n",
      "41: buy_decision_daily\n",
      "42: buy_decision_clothes\n",
      "43: decide_spending_partner\n",
      "44: has_savings\n",
      "45: has_fin_knowl\n",
      "46: has_fin_goals\n",
      "47: sexual_autonomy\n",
      "48: financial_autonomy\n",
      "49: decision_making\n",
      "50: fertility_intent\n",
      "51: categorical_intent\n",
      "52: intent_to_use\n",
      "53: partnered\n",
      "54: partnership_age\n",
      "55: urban\n",
      "56: wealthquintile\n",
      "57: edu_objective\n",
      "58: edu_attainment\n",
      "59: edu_dropout\n",
      "60: edu_interrupted\n",
      "61: edu_completed\n",
      "62: edu_started\n",
      "63: child_inds\n",
      "64: birth_ages\n",
      "65: stillborn_ages\n",
      "66: miscarriage_ages\n",
      "67: abortion_ages\n"
     ]
    }
   ],
   "source": [
    "from fpsim.defaults import person_defaults\n",
    "for i, (key, state) in enumerate(person_defaults.items()): print(f\"{i}: {key}\")"
   ]
  },
  {
   "cell_type": "markdown",
   "id": "28f054ba-c61f-44fe-901d-76516cb684ff",
   "metadata": {},
   "source": [
    "### Increase the number of women who have education\n",
    "\n",
    "The `change_people_state` intervention can be used to change 'states' or attributes of women. Let's see what would hapen if we increase education. In FPsim, education is defined based on an education objective and education attainment. The education objective is given to each woman when she enters the model. During her school age years, she gains one year of educationl attainment each year until she reaches her objective. This trajectory can be interrupted if she experiences a pregnancy during those years. \n",
    "\n",
    "First, we will identify all women who have a goal to achieve at least one year of education."
   ]
  },
  {
   "cell_type": "code",
   "execution_count": 9,
   "id": "5cf1e833-e198-441c-884f-9cc5f297241b",
   "metadata": {},
   "outputs": [],
   "source": [
    "def select_undereducated(sim):\n",
    "    \"\"\" Select women who have a goal to achieve at least 1 year of education \"\"\"\n",
    "    is_eligible = ((sim.people.is_female) &\n",
    "                   (sim.people.alive)     & \n",
    "                   (sim.people.edu_objective > 0))\n",
    "    return is_eligible"
   ]
  },
  {
   "cell_type": "markdown",
   "id": "2d623af5-a126-4d01-880b-4ee4dfa7d37a",
   "metadata": {},
   "source": [
    "Now, define a baseline simulation, s0, with no changes."
   ]
  },
  {
   "cell_type": "code",
   "execution_count": 11,
   "id": "b603ae96-0bce-4a72-8389-5eaac519a075",
   "metadata": {},
   "outputs": [],
   "source": [
    "edu = fp.Education()\n",
    "s0 = fp.Sim(pars=pars, education_module=edu, label='Baseline')"
   ]
  },
  {
   "cell_type": "markdown",
   "id": "25b045ee-5519-4e54-b56f-125ae756644b",
   "metadata": {},
   "source": [
    "Next, we define our education change intervention. This intervention finds a of the eligible women (those with a goa of achieveing at least 1 year of education), and gives all of them 15 years of education, starting in the year 2010. We define a simulaiton, s1, with this educaiton intervention."
   ]
  },
  {
   "cell_type": "code",
   "execution_count": 13,
   "id": "9c7d5e36-5300-404c-86d2-16f717479537",
   "metadata": {},
   "outputs": [],
   "source": [
    "change_education = fp.change_people_state(\n",
    "                        'edu_attainment',\n",
    "                        eligibility=select_undereducated,\n",
    "                        years=2010.0,\n",
    "                        new_val=15,  # Give all selected women 15 years of education\n",
    "                    )\n",
    "edu = fp.Education()\n",
    "s1 = fp.Sim(pars=pars, \n",
    "            education_module=edu, \n",
    "            interventions=change_education,\n",
    "            label='Increased education')"
   ]
  },
  {
   "cell_type": "markdown",
   "id": "31bcce3f-9fb1-465c-a5c2-58d6dbb04e9b",
   "metadata": {},
   "source": [
    "Run a multile simulation run with msim to get the results of both of these simulations."
   ]
  },
  {
   "cell_type": "code",
   "execution_count": 15,
   "id": "bda597aa-76b3-4607-a1cb-ad1639dd4106",
   "metadata": {},
   "outputs": [],
   "source": [
    "msim = fp.parallel(s0, s1)\n",
    "s0, s1 = msim.sims"
   ]
  },
  {
   "cell_type": "markdown",
   "id": "fb070fd3-b703-411e-82f9-d638727ccca3",
   "metadata": {},
   "source": [
    "Plot the resulting education levels."
   ]
  },
  {
   "cell_type": "code",
   "execution_count": 17,
   "id": "e1a1fa7b-8f7a-4e48-bf4f-922f9449d6d2",
   "metadata": {},
   "outputs": [
    {
     "data": {
      "text/plain": [
       "<matplotlib.legend.Legend at 0x219083f9fd0>"
      ]
     },
     "execution_count": 17,
     "metadata": {},
     "output_type": "execute_result"
    },
    {
     "data": {
      "image/png": "[encoded data removed]",
      "text/plain": [
       "<Figure size 640x480 with 1 Axes>"
      ]
     },
     "metadata": {},
     "output_type": "display_data"
    }
   ],
   "source": [
    "plt.plot(s0.results.t, s0.results.edu_attainment, label=s0.label)\n",
    "plt.plot(s1.results.t, s1.results.edu_attainment, label=s1.label)\n",
    "plt.ylabel('Average years of education among women')\n",
    "plt.xlabel('Year')\n",
    "plt.legend()"
   ]
  }
 ],
 "metadata": {
  "kernelspec": {
   "display_name": "Python 3 (Spyder)",
   "language": "python3",
   "name": "python3"
  },
  "language_info": {
   "codemirror_mode": {
    "name": "ipython",
    "version": 3
   },
   "file_extension": ".py",
   "mimetype": "text/x-python",
   "name": "python",
   "nbconvert_exporter": "python",
   "pygments_lexer": "ipython3",
   "version": "3.12.3"
  }
 },
 "nbformat": 4,
 "nbformat_minor": 5
}
