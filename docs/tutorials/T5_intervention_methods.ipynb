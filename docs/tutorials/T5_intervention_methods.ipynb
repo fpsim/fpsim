{
 "cells": [
  {
   "cell_type": "markdown",
   "id": "680a428e-a077-4d5c-87a9-07256f63b104",
   "metadata": {},
   "source": [
    "# Getting started - Requirements\n",
    "Python (🐍):  This assumes that you have a python environment installed. If you haven't, we recommend installing [Anaconda](https://docs.anaconda.com/anaconda/install/).\n",
    "\n",
    "FPsim (♀️): This tutorial uses [FPsim v2.0](https://github.com/fpsim/fpsim/tree/rc2.0-methodtime) (still under development). \n",
    "\n",
    "To install, you first need to clone or download the a copy of the source code from https://github.com/starsimhub/typhoidsim\n",
    " \n",
    "```\n",
    "git clone -b rc2.0-methodtime --single-branch https://github.com/fpsim/fpsim.git\n",
    "cd fpsim\n",
    "pip install -e .\n",
    "```\n",
    "\n",
    "If it worked, you should be able to import typhoidsim with `import fpsim as fp`."
   ]
  },
  {
   "cell_type": "markdown",
   "id": "7db2b1e9-a4b4-455e-9d4c-5f6c765a9dae",
   "metadata": {},
   "source": [
    "## Interventions - what if we want a percentage of the eligible population? \n",
    "\n",
    "You can use the same mechanism we saw in the previous tutiorial (T4) to the eleigibility criteria for yout intervention. An example of a more complex eligibility function could be:\n",
    "\n",
    "_Select a percentage of urban women aged 20-25 who have 1+ children, are in the lowest wealth quintile, and have intent to use contraception_\n",
    "\n"
   ]
  },
  {
   "cell_type": "code",
   "execution_count": null,
   "id": "5546b773-b520-4436-bc64-ce6f9c65d5f6",
   "metadata": {},
   "outputs": [],
   "source": [
    "import fpsim as fp\n",
    "import sciris as sc"
   ]
  },
  {
   "cell_type": "code",
   "execution_count": null,
   "id": "fb7fa8a1-3232-48e1-a454-01c99333a9d0",
   "metadata": {},
   "outputs": [],
   "source": [
    "def eligibility_criteria(sim):\n",
    "    min_age = 20\n",
    "    max_age = 25\n",
    "    # Select all women that meet our criteria\n",
    "    is_eligible = ((sim.people.is_female) &\n",
    "                   (sim.people.alive) &\n",
    "                   (sim.people.urban == True)  &\n",
    "                   (sim.people.age >= min_age) &\n",
    "                   (sim.people.age <  max_age) &\n",
    "                   (sim.people.parity >= 1) & \n",
    "                   (sim.people.wealthquintile == 1) & \n",
    "                   (sim.people.intent_to_use == True))\n",
    "    \n",
    "    return is_eligible"
   ]
  },
  {
   "cell_type": "code",
   "execution_count": null,
   "id": "6ac0013b-59f9-4964-8182-1953ce7d96f8",
   "metadata": {},
   "outputs": [],
   "source": [
    "change_intent = fp.change_people_state('intent_to_use', \n",
    "                                       new_val=True, \n",
    "                                       eligibility=eligibility_criteria, \n",
    "                                       year=2005.0, \n",
    "                                       prop=0.5) # only 50% of women who meet the criteria are selected for the intervention"
   ]
  },
  {
   "cell_type": "code",
   "execution_count": null,
   "id": "97c48000-7e69-4352-aec5-ea5ac0064575",
   "metadata": {},
   "outputs": [],
   "source": [
    "pars = dict(\n",
    "    n_agents   = 10_000,\n",
    "    location   = 'kenya',\n",
    "    start_year = 2000, \n",
    "    end_year   = 2012,\n",
    "    exposure_factor = 1.0  # Overall scale factor on probability of becoming pregnant\n",
    ")\n"
   ]
  },
  {
   "cell_type": "code",
   "execution_count": null,
   "id": "8d73353b-85e5-4eeb-bb8d-77560cf36a33",
   "metadata": {},
   "outputs": [],
   "source": [
    "s1 = fp.Sim(pars=pars, label='Baseline')\n",
    "s2 = fp.Sim(pars=pars, interventions=change_intent, label='Increased intent')\n",
    "simlist = sc.autolist([s1, s2])\n",
    "msim = fp.MultiSim(sims=simlist)\n",
    "msim.run(serial=True, die=False)"
   ]
  },
  {
   "cell_type": "code",
   "execution_count": null,
   "id": "ec9595da-6f6c-4f51-b8fb-542ca448da1a",
   "metadata": {},
   "outputs": [],
   "source": [
    "msim.plot(to_plot='intent');"
   ]
  }
 ],
 "metadata": {
  "kernelspec": {
   "display_name": "Python 3 (ipykernel)",
   "language": "python",
   "name": "python3"
  },
  "language_info": {
   "codemirror_mode": {
    "name": "ipython",
    "version": 3
   },
   "file_extension": ".py",
   "mimetype": "text/x-python",
   "name": "python",
   "nbconvert_exporter": "python",
   "pygments_lexer": "ipython3",
   "version": "3.10.12"
  }
 },
 "nbformat": 4,
 "nbformat_minor": 5
}
