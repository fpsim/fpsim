{
 "cells": [
  {
   "cell_type": "markdown",
   "metadata": {},
   "source": [
    "## Scenario plotting\n",
    "\n",
    "In this tutorial, you will learn how to plot the intervention scenarios we've built. Note: We intend that these tutorials be done in order, for the greatest benefit. If you haven't yet explored the previous tutorials, we recommend you start at the beginning.  "
   ]
  },
  {
   "cell_type": "markdown",
   "metadata": {},
   "source": [
    "First, let's run the scenarios we ended up with in the previous tutorial (Scenarios). If you're coming here directly from that exercise, you can skip this step. "
   ]
  },
  {
   "cell_type": "code",
   "execution_count": null,
   "metadata": {},
   "outputs": [],
   "source": [
    "import fpsim as fp\n",
    "\n",
    "n_agents   = 10_000\n",
    "start_year = 1980\n",
    "repeats    = 3\n",
    "year       = 2012\n",
    "youth_ages = ['<18', '18-20']\n",
    "    \n",
    "pars = fp.pars(location='senegal', n_agents=n_agents, start_year=start_year, end_year=2020) #set pars to include all shared arguments\n",
    "pars.add_method(name='new injectables', eff=0.983)\n",
    "\n",
    "method = 'Injectables'\n",
    "kw = dict(method=method, ages=youth_ages) #set kwargs to take on the method and the age group\n",
    "d_kw = dict(dest=method, ages=youth_ages)\n",
    "f1 = fp.make_scen(\n",
    "        label = '2x uptake',\n",
    "        year  = year,\n",
    "        probs = [\n",
    "            dict(init_factor = 2.0, **kw),\n",
    "                ]\n",
    "            )\n",
    "f2 = fp.make_scen(\n",
    "        label = '5x uptake',\n",
    "        year  = year,\n",
    "        probs = [\n",
    "            dict(init_factor = 5.0, **kw),\n",
    "                ]\n",
    "            )\n",
    "    \n",
    "f3 = fp.make_scen(\n",
    "        label = '10x uptake',\n",
    "        year  = year,\n",
    "        probs = [\n",
    "            dict(init_factor = 10.0, **kw),\n",
    "                ]\n",
    "            )\n",
    "f_switch = fp.make_scen(\n",
    "        label = '20 percent switching',\n",
    "        year  = year,\n",
    "        probs = [\n",
    "            dict(source = 'Injectables', value = 0.20, **d_kw)\n",
    "                ]\n",
    "           )\n",
    "\n",
    "f4 = f2 + f_switch \n",
    "\n",
    "method = 'new injectables'\n",
    "kw = dict(method=method, ages=youth_ages)\n",
    "f_new = fp.make_scen(\n",
    "        label = 'introduce new method',\n",
    "        year  = 2015, #replacing the intervention year, giving the new method a bit of a lag\n",
    "        probs = [\n",
    "            dict(copy_from='Injectables', **kw),\n",
    "            dict(init_value=0.05, **kw),\n",
    "                ]\n",
    "            )\n",
    "\n",
    "scens = fp.Scenarios(pars=pars, repeats=repeats)\n",
    "scens.add_scen(label='Baseline')\n",
    "scens.add_scen(f1)\n",
    "scens.add_scen(f2)\n",
    "scens.add_scen(f3)\n",
    "scens.add_scen(f4, label = '5x uptake plus switching') #combining f2 and f_switch and re-labeling here\n",
    "scens.add_scen(f_new)\n",
    "\n",
    "scens.run()"
   ]
  },
  {
   "cell_type": "markdown",
   "metadata": {},
   "source": [
    "Now that we've run the scenarios, we have a 'scens' object that we want to examine, and we'll do that first by plotting the results. The default plotting is simply plot(), which will show mCPR, live births, stillbirths, maternal deaths, infant deats, and the infant mortality rate. If you have more than one 'repeat', you'll see each scenario has a line and a confidence band. "
   ]
  },
  {
   "cell_type": "code",
   "execution_count": null,
   "metadata": {},
   "outputs": [],
   "source": [
    "scens.plot()"
   ]
  },
  {
   "cell_type": "markdown",
   "metadata": {},
   "source": [
    "plot() is the same whether you run a single sim (sim.plot()) or multiple scenarios (scens.plot()). So, it has the same options beyond the default as we explored in T2. \n",
    "\n",
    "* <i>'cpr'</i> will plot three different ways to define contraceptive prevalence - mCPR, CPR (includes traditional), and aCPR (includes traditional and restricts denominator to sexually active non-pregnant women) <br>\n",
    "* <i>'apo'</i> will plot adverse pregnancy outcomes, including abortion and miscarriage <br>\n",
    "* <i>'mortality'</i> will plot mortality-related outcomes <br>\n",
    "* <i>'method'</i> plots the method mix, including any new methods you've introduced in the scenarios.  <br>"
   ]
  },
  {
   "cell_type": "markdown",
   "metadata": {},
   "source": [
    "Let's take a look at the 'method' option. "
   ]
  },
  {
   "cell_type": "code",
   "execution_count": null,
   "metadata": {},
   "outputs": [],
   "source": [
    "scens.plot('method')"
   ]
  },
  {
   "cell_type": "markdown",
   "metadata": {},
   "source": [
    "## Customize plotting\n",
    "\n",
    "Users can customize FPsim plots by contributing new code defining new plot options to our shared codebase. However, if you only want to customize the appearance of existing plots, you can easily add a few lines of code after you've run your scenarios. \n",
    "\n",
    "You may want to zoom in on some plots, for instance, to the point of intervention, which you can do in iptyhon's interactive setting. Or you can limit the x-axis when you call the plot. This is particularly helpful if you're calling multiple plots and you want them all to match, without too much fiddling required on your end.\n",
    "\n",
    "To do this, we simply need to save the figures and write a quick for loop to set the x-axis limits. "
   ]
  },
  {
   "cell_type": "code",
   "execution_count": null,
   "metadata": {},
   "outputs": [],
   "source": [
    "method_fig = scens.plot('method')\n",
    "apo_fig = scens.plot('apo')\n",
    "for fig in [method_fig, apo_fig]:\n",
    "                for ax in fig.axes:\n",
    "                    ax.set_xlim(left = 2012, \n",
    "                                right = 2020)"
   ]
  },
  {
   "cell_type": "markdown",
   "metadata": {},
   "source": [
    "You may also want to set custom color schemes for your plots. In Python, you can input HTML color codes into a custom color dictionary: "
   ]
  },
  {
   "cell_type": "code",
   "execution_count": null,
   "metadata": {},
   "outputs": [],
   "source": [
    "colors = {\n",
    "    'None'              : [0.0, 0.0, 0.0],\n",
    "    'Withdrawal'        : [0.3, 0.3, 0.3],\n",
    "    'Other traditional' : [0.5, 0.5, 0.5],\n",
    "    'Condoms'           : [0.7, 0.7, 0.7],\n",
    "    'Pill'              : [0.3, 0.8, 0.9],\n",
    "    'Injectables'       : [0.6, 0.4, 0.9],\n",
    "    'Implants'          : [0.4, 0.2, 0.9],\n",
    "    'IUDs'              : [0.0, 0.0, 0.9],\n",
    "    'BTL'               : [0.8, 0.0, 0.0],\n",
    "    'Other modern'      : [0.8, 0.5, 0.5],\n",
    "    'new condoms'       : [0.7, 0.8, 0.7],\n",
    "    'new implants'      : [0.5, 0.8, 0.5],\n",
    "    'new injectables'   : [0.2, 0.8, 0.2],\n",
    "}"
   ]
  },
  {
   "cell_type": "markdown",
   "metadata": {},
   "source": [
    "Then we can apply the color dictionary to our method mix plot: "
   ]
  },
  {
   "cell_type": "code",
   "execution_count": null,
   "metadata": {},
   "outputs": [],
   "source": [
    "scens.plot('method', colors = colors)"
   ]
  },
  {
   "cell_type": "markdown",
   "metadata": {},
   "source": [
    "To further customize your own plots, you can always download the dataframe and selected output to a .csv file, and export to your preferred environment. We've used this method for a wide range of quick analyses, from creating pivot tables in excel to custom plots using ggplot2 in R. "
   ]
  },
  {
   "cell_type": "code",
   "execution_count": 48,
   "metadata": {},
   "outputs": [],
   "source": [
    "df = scens.msim.to_df()\n",
    "df.to_csv(r'T4_scenario_output.csv')"
   ]
  },
  {
   "cell_type": "markdown",
   "metadata": {},
   "source": [
    "This concludes the FPsim tutorials. We look forward to seeing what you create using this tool!"
   ]
  }
 ],
 "metadata": {
  "kernelspec": {
   "display_name": "Python 3.9.12 ('base')",
   "language": "python",
   "name": "python3"
  },
  "language_info": {
   "codemirror_mode": {
    "name": "ipython",
    "version": 3
   },
   "file_extension": ".py",
   "mimetype": "text/x-python",
   "name": "python",
   "nbconvert_exporter": "python",
   "pygments_lexer": "ipython3",
   "version": "3.9.12"
  },
  "orig_nbformat": 4,
  "vscode": {
   "interpreter": {
    "hash": "f989c29971a53096ab577f7316d908e668661d6c8d7746449c0b0a201f667d60"
   }
  }
 },
 "nbformat": 4,
 "nbformat_minor": 2
}
