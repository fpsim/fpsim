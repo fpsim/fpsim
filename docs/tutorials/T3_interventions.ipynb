{
 "cells": [
  {
   "cell_type": "markdown",
   "id": "08f1101d-b451-4101-8d5e-fb34115613bb",
   "metadata": {},
   "source": [
    "# Getting started - Requirements\n",
    "Python (🐍):  This assumes that you have a python environment installed. If you haven't, we recommend installing [Anaconda](https://docs.anaconda.com/anaconda/install/).\n",
    "\n",
    "FPsim (♀️): This tutorial uses [FPsim v2.0](https://github.com/fpsim/fpsim/tree/rc2.0-methodtime) (still under development). \n",
    "\n",
    "To install, you first need to clone or download the a copy of the source code from https://github.com/starsimhub/typhoidsim\n",
    " \n",
    "```\n",
    "git clone -b rc2.0-methodtime --single-branch https://github.com/fpsim/fpsim.git\n",
    "cd fpsim\n",
    "pip install -e .\n",
    "```\n",
    "\n",
    "If it worked, you should be able to import typhoidsim with `import fpsim as fp`."
   ]
  },
  {
   "cell_type": "markdown",
   "id": "d4731342-e811-491c-bf87-1f4b40b3407b",
   "metadata": {},
   "source": [
    "## Interventions \n",
    "\n",
    "At this point, you should now be able to run a single sim, using default or custom parameters and plot the results. \n",
    "\n",
    "In this tutorial, you will learn how use interventions. Let's start with a basic case where we increase the efficacy of an existing contraceptive method (injectables) to 99%. "
   ]
  },
  {
   "cell_type": "markdown",
   "id": "00b13cb0-4dce-49e8-90a5-4de56d7115ee",
   "metadata": {},
   "source": [
    "### Basic simulation parameters and method choice module"
   ]
  },
  {
   "cell_type": "code",
   "execution_count": null,
   "id": "283c520d-b622-4220-bf50-c012705f2f11",
   "metadata": {},
   "outputs": [],
   "source": [
    "import fpsim as fp\n",
    "\n",
    "pars = dict(\n",
    "    n_agents   = 1_000,\n",
    "    location   = 'kenya',\n",
    "    start_year = 2000, \n",
    "    end_year   = 2020,\n",
    "    exposure_factor = 1.0  # Overall scale factor on probability of becoming pregnant\n",
    ")\n",
    "method_choice = fp.SimpleChoice(location=pars['location'])"
   ]
  },
  {
   "cell_type": "markdown",
   "id": "d4a669c0-cdb8-4004-a17a-7c2eddd78171",
   "metadata": {},
   "source": [
    "#### 1. Baseline simulation without intervention\n",
    "We will pass one more argument to the sim and that is its 'label'"
   ]
  },
  {
   "cell_type": "code",
   "execution_count": null,
   "id": "f2f41691-f8ed-447c-930e-c92e6d3f9f2d",
   "metadata": {},
   "outputs": [],
   "source": [
    "sim_bl = fp.Sim(pars=pars, contraception_module=method_choice, label=\"Baseline\")\n",
    "sim_bl.run()"
   ]
  },
  {
   "cell_type": "code",
   "execution_count": null,
   "id": "9b0d922f-6501-49e4-9f08-5cab8a691855",
   "metadata": {},
   "outputs": [],
   "source": [
    "_ = sim_bl.plot();"
   ]
  },
  {
   "cell_type": "markdown",
   "id": "19ceee34-2bb1-48f0-85df-f9854619b84c",
   "metadata": {},
   "source": [
    "#### 2. Simulation with an intervention that changes the EFFICACY of a method\n",
    "\n",
    "First let's have a look at which contraceptive methods we have available"
   ]
  },
  {
   "cell_type": "code",
   "execution_count": null,
   "id": "cc4fb846-9b90-4a24-884f-0e2a071a2ded",
   "metadata": {},
   "outputs": [],
   "source": [
    "for method in fp.Methods(): print(method.label)"
   ]
  },
  {
   "cell_type": "code",
   "execution_count": null,
   "id": "9e62c451-5308-4e4d-9a1c-62093d1e236c",
   "metadata": {},
   "outputs": [],
   "source": [
    "change_efficacy_intervention = fp.update_methods(eff={\"Injectables\": 0.99}, year=2010)  # new efficacy starts in 2010\n",
    "\n",
    "sim_inj = fp.Sim(pars=pars, contraception_module=method_choice, interventions=change_efficacy_intervention, label=\"Injectables Intervention\")\n",
    "sim_inj.run()"
   ]
  },
  {
   "cell_type": "code",
   "execution_count": null,
   "id": "6ba06292-1f2f-4618-8afc-8c22db4ccdf1",
   "metadata": {},
   "outputs": [],
   "source": [
    "_ = sim_inj.plot();"
   ]
  },
  {
   "cell_type": "markdown",
   "id": "ca790eef-51fe-4ae5-8a3a-169659be7eac",
   "metadata": {},
   "source": [
    "#### 3. Simulation with an intervention that changes the distribution of DURATIONS on the method\n"
   ]
  },
  {
   "cell_type": "markdown",
   "id": "f9586e73-c782-4e42-9be5-05ca68b96a12",
   "metadata": {},
   "source": [
    "Now, let's try changin a different aspect of the method: the distribution of time-on-method (duration) "
   ]
  },
  {
   "cell_type": "code",
   "execution_count": null,
   "id": "51f53c8c-f6fe-4ae7-b58e-7b1bbbf5c469",
   "metadata": {},
   "outputs": [],
   "source": [
    "# The baseline duration for Injectables is a lognormal with parameter par1=2, and par2=3\n",
    "change_duration_intervention = fp.update_methods(dur_use={'Injectables': dict(dist='lognormal', par1=3, par2=4)}, year=2010) \n",
    "sim_inj = fp.Sim(pars=pars, contraception_module=method_choice, interventions=change_duration_intervention, label=\"Injectables Intervention\")\n",
    "sim_inj.run()"
   ]
  },
  {
   "cell_type": "code",
   "execution_count": null,
   "id": "f03ec83a-3896-4925-b3c2-b961ac704ad0",
   "metadata": {},
   "outputs": [],
   "source": [
    "_ = sim_inj.plot();"
   ]
  }
 ],
 "metadata": {
  "kernelspec": {
   "display_name": "Python 3 (ipykernel)",
   "language": "python",
   "name": "python3"
  },
  "language_info": {
   "codemirror_mode": {
    "name": "ipython",
    "version": 3
   },
   "file_extension": ".py",
   "mimetype": "text/x-python",
   "name": "python",
   "nbconvert_exporter": "python",
   "pygments_lexer": "ipython3",
   "version": "3.10.12"
  }
 },
 "nbformat": 4,
 "nbformat_minor": 5
}
