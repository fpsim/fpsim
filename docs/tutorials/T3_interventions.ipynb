{
 "cells": [
  {
   "cell_type": "markdown",
   "id": "08f1101d-b451-4101-8d5e-fb34115613bb",
   "metadata": {},
   "source": [
    "# Getting started - Requirements\n",
    "Python (🐍):  This assumes that you have a python environment installed. If you haven't, we recommend installing [Anaconda](https://docs.anaconda.com/anaconda/install/).\n",
    "\n",
    "FPsim (♀️): This tutorial uses [FPsim v2.0](https://github.com/fpsim/fpsim/tree/rc2.0-methodtime) (still under development). \n",
    "\n",
    "To install, you first need to clone or download the a copy of the source code from https://github.com/starsimhub/typhoidsim\n",
    " \n",
    "```\n",
    "git clone -b rc2.0-methodtime --single-branch https://github.com/fpsim/fpsim.git\n",
    "cd fpsim\n",
    "pip install -e .\n",
    "```\n",
    "\n",
    "If it worked, you should be able to import typhoidsim with `import fpsim as fp`."
   ]
  },
  {
   "cell_type": "markdown",
   "id": "d4731342-e811-491c-bf87-1f4b40b3407b",
   "metadata": {},
   "source": [
    "## Interventions \n",
    "\n",
    "At this point, you should now be able to run a single sim, using default or custom parameters and plot the results. \n",
    "\n",
    "In this tutorial, you will learn how to use interventions. I"
   ]
  },
  {
   "cell_type": "markdown",
   "id": "00b13cb0-4dce-49e8-90a5-4de56d7115ee",
   "metadata": {},
   "source": [
    "### Basic simulation parameters and method choice module"
   ]
  },
  {
   "cell_type": "code",
   "execution_count": 5,
   "id": "283c520d-b622-4220-bf50-c012705f2f11",
   "metadata": {},
   "outputs": [],
   "source": [
    "import fpsim as fp\n",
    "import sciris as sc\n",
    "\n",
    "pars = dict(\n",
    "    n_agents   = 1_000,\n",
    "    location   = 'kenya',\n",
    "    start_year = 2000, \n",
    "    end_year   = 2020,\n",
    "    exposure_factor = 1.0  # Overall scale factor on probability of becoming pregnant\n",
    ")\n",
    "method_choice = fp.SimpleChoice(location=pars['location'])"
   ]
  },
  {
   "cell_type": "markdown",
   "id": "62fc79a4-e17f-4e38-8938-082e90e334da",
   "metadata": {},
   "source": [
    "### Multisim \n",
    "\n",
    "It is typical to want to test many interventions and compared with a baseline simulation wihtout the intervention. FPsim has the MultiSim class which handles the running of multiple simulations, }and provides mechanisms to plot the results together, to facilitate comparison. We will use this class here. But first, let's define each of our individual simulations. To distiguish each simulation in the plots, we will pass one more argument to the sim: its 'label'.  "
   ]
  },
  {
   "cell_type": "markdown",
   "id": "d4a669c0-cdb8-4004-a17a-7c2eddd78171",
   "metadata": {},
   "source": [
    "#### 1. A simulation without intervention (baseline)"
   ]
  },
  {
   "cell_type": "code",
   "execution_count": 6,
   "id": "f2f41691-f8ed-447c-930e-c92e6d3f9f2d",
   "metadata": {},
   "outputs": [],
   "source": [
    "s1 = fp.Sim(pars=pars, contraception_module=method_choice, label=\"Baseline\")"
   ]
  },
  {
   "cell_type": "markdown",
   "id": "19ceee34-2bb1-48f0-85df-f9854619b84c",
   "metadata": {},
   "source": [
    "#### 2. A simulation with an intervention that changes the EFFICACY of a method\n",
    "\n",
    "First let's have a look at which contraceptive methods we have available"
   ]
  },
  {
   "cell_type": "code",
   "execution_count": 7,
   "id": "cc4fb846-9b90-4a24-884f-0e2a071a2ded",
   "metadata": {},
   "outputs": [
    {
     "name": "stdout",
     "output_type": "stream",
     "text": [
      "None\n",
      "Pill\n",
      "IUDs\n",
      "Injectables\n",
      "Condoms\n",
      "BTL\n",
      "Withdrawal\n",
      "Implants\n",
      "Other traditional\n",
      "Other modern\n"
     ]
    }
   ],
   "source": [
    "for method in fp.Methods(): print(method.label)"
   ]
  },
  {
   "cell_type": "code",
   "execution_count": 8,
   "id": "9e62c451-5308-4e4d-9a1c-62093d1e236c",
   "metadata": {},
   "outputs": [],
   "source": [
    "change_efficacy_intervention = fp.update_methods(eff={\"Injectables\": 0.99}, year=2010)  # new efficacy starts in 2010\n",
    "\n",
    "s2 = fp.Sim(pars=pars, contraception_module=method_choice, \n",
    "                 interventions=change_efficacy_intervention, \n",
    "                 label=\"More effective Injectables \")"
   ]
  },
  {
   "cell_type": "markdown",
   "id": "ca790eef-51fe-4ae5-8a3a-169659be7eac",
   "metadata": {},
   "source": [
    "#### 3. A simulation with an intervention that changes the distribution of DURATIONS on the method\n"
   ]
  },
  {
   "cell_type": "markdown",
   "id": "f9586e73-c782-4e42-9be5-05ca68b96a12",
   "metadata": {},
   "source": [
    "Now, let's try changin a different aspect of the method: the distribution of time-on-method (duration) "
   ]
  },
  {
   "cell_type": "code",
   "execution_count": 9,
   "id": "51f53c8c-f6fe-4ae7-b58e-7b1bbbf5c469",
   "metadata": {},
   "outputs": [],
   "source": [
    "# The baseline duration for Injectables is a lognormal with parameter par1=2, and par2=3\n",
    "change_duration_intervention = fp.update_methods(dur_use={'Injectables': dict(dist='lognormal', par1=3, par2=4)}, year=2010) \n",
    "s3 = fp.Sim(pars=pars, contraception_module=method_choice, \n",
    "                 interventions=change_duration_intervention, \n",
    "                 label=\"Longer time on Injectables\")"
   ]
  },
  {
   "cell_type": "markdown",
   "id": "7bbda2a7-11c9-4c34-8482-bc1608397be8",
   "metadata": {},
   "source": [
    "#### 4. A simulation with an intervention that increases the probability of women using contraception (default p_use=0.5)\n",
    "\n"
   ]
  },
  {
   "cell_type": "code",
   "execution_count": 10,
   "id": "4f496792-9c96-426a-9f35-2b468bd93708",
   "metadata": {},
   "outputs": [],
   "source": [
    "change_prob_intervention = fp.update_methods(p_use=0.8, year=2010) \n",
    "\n",
    "s4 = fp.Sim(pars=pars, contraception_module=method_choice, \n",
    "            interventions=change_prob_intervention, \n",
    "            label=\"Higher probability of contraceptive use\")"
   ]
  },
  {
   "cell_type": "code",
   "execution_count": null,
   "id": "fad8b331-65ec-4138-9b3e-3a15adbfb857",
   "metadata": {},
   "outputs": [],
   "source": [
    "simlist = sc.autolist([s1, s2, s3, s4])\n",
    "msim = fp.MultiSim(sims=simlist)\n",
    "msim.run(serial=True)"
   ]
  },
  {
   "cell_type": "code",
   "execution_count": null,
   "id": "192434aa-3857-4cda-ae15-22805a51b198",
   "metadata": {},
   "outputs": [],
   "source": []
  }
 ],
 "metadata": {
  "kernelspec": {
   "display_name": "Python 3 (ipykernel)",
   "language": "python",
   "name": "python3"
  },
  "language_info": {
   "codemirror_mode": {
    "name": "ipython",
    "version": 3
   },
   "file_extension": ".py",
   "mimetype": "text/x-python",
   "name": "python",
   "nbconvert_exporter": "python",
   "pygments_lexer": "ipython3",
   "version": "3.10.12"
  }
 },
 "nbformat": 4,
 "nbformat_minor": 5
}
