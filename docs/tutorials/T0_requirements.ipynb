# -*- coding: utf-8 -*-
"""
Created on Wed Jul  9 17:27:48 2025

@author: michelleob
"""

{
 "cells": [
  {
   "cell_type": "markdown",
   "id": "6339035a",
   "metadata": {},
   "source": [
    "# Getting started - Requirements\n",
    "Python (🐍):  This assumes that you have a python environment installed.\n",
    "If you need help with Python, start here: https://docs.python.org/3/\n",
    "\n",
    "To install FPsim, you first need to clone or download a copy of the source code from https://github.com/fpsim/fpsim\n",
    " \n",
    "```\n",
    "git clone -b <branch> --single-branch https://github.com/fpsim/fpsim.git\n",
    "cd fpsim\n",
    "pip install -e .\n",
    "```\n",
    "You may also install the latest public version of the model using 'pip install fpsim'",
    "\n",
    "If it worked, you should be able to import fpsim with `import fpsim as fp`.",
   ]
  },
  
    {
     "cell_type": "code",
     "id": "b2b3e166-1e15-43b4-b3ba-0f9831e15c7b",
     "metadata": {},
     "source": [
      "pip install fpsim"
     ],
     "outputs": [],
     "execution_count": null
    },
  
  {
   "cells": [
    {
     "cell_type": "markdown",
     "id": "6339035a",
     "metadata": {},
     "source": [
      "Test your install below.",
      "If you receive an error that you cannot import fpsim or that fp does not have the attribute sim, try installing again.",
     ]
    },
   {
    "cell_type": "code",
    "id": "5303a6e1",
    "metadata": {},
    "source": [
     "import fpsim as fp\n",
     "\n",
     "sim = fp.Sim()\n",
     "sim.run()\n",
    ],
    "outputs": [],
    "execution_count": null
   },