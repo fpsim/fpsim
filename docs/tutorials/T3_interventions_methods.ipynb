{
 "cells": [
  {
   "cell_type": "markdown",
   "id": "08f1101d-b451-4101-8d5e-fb34115613bb",
   "metadata": {},
   "source": [
    "# Getting started - Requirements\n",
    "Python (🐍):  This assumes that you have a python environment installed. If you haven't, we recommend installing [Anaconda](https://docs.anaconda.com/anaconda/install/).\n",
    "\n",
    "FPsim (♀️): This tutorial uses [FPsim v2.0](https://github.com/fpsim/fpsim/tree/rc2.0-methodtime). \n",
    "\n",
    "To install, you first need to clone or download the a copy of the source code from https://github.com/fpsim/fpsim/\n",
    " \n",
    "```\n",
    "git clone -b rc2.0-methodtime --single-branch https://github.com/fpsim/fpsim.git\n",
    "cd fpsim\n",
    "pip install -e .\n",
    "```\n",
    "\n",
    "If it worked, you should be able to import fpsim with `import fpsim as fp`."
   ]
  },
  {
   "cell_type": "markdown",
   "id": "490304af",
   "metadata": {},
   "source": [
    "<div class=\"alert alert-info\">\n",
    "    \n",
    "An interactive version of this notebook is available on [Google Colab](https://colab.research.google.com/github/fpsim/fpsim/blob/main/docs/tutorials/T3_intervention_methods.ipynb?install=fpsim) or [Binder](https://mybinder.org/v2/gh/fpsim/fpsim/HEAD?labpath=docs%2Ftutorials%2FT3_intervention_methods.ipynb).\n",
    "    \n",
    "</div>"
   ]
  },
  {
   "cell_type": "markdown",
   "id": "d4731342-e811-491c-bf87-1f4b40b3407b",
   "metadata": {},
   "source": [
    "## Interventions \n",
    "\n",
    "At this point, you should now be able to run a single sim, using default or custom parameters and plot the results. \n",
    "\n",
    "In this tutorial, you will learn how to use interventions. I"
   ]
  },
  {
   "cell_type": "markdown",
   "id": "00b13cb0-4dce-49e8-90a5-4de56d7115ee",
   "metadata": {},
   "source": [
    "### Basic simulation parameters and method choice module\n",
    "First, define the basic parmeters as you learned in the previous tutorial."
   ]
  },
  {
   "cell_type": "code",
   "execution_count": null,
   "id": "283c520d-b622-4220-bf50-c012705f2f11",
   "metadata": {},
   "outputs": [],
   "source": [
    "import fpsim as fp\n",
    "import sciris as sc\n",
    "\n",
    "pars = dict(\n",
    "    n_agents   = 1_000,\n",
    "    location   = 'kenya',\n",
    "    start_year = 2000, \n",
    "    end_year   = 2020,\n",
    "    exposure_factor = 1.0  # Overall scale factor on probability of becoming pregnant\n",
    ")\n",
    "method_choice = fp.RandomChoice(location=pars['location'])  "
   ]
  },
  {
   "cell_type": "markdown",
   "id": "62fc79a4-e17f-4e38-8938-082e90e334da",
   "metadata": {},
   "source": [
    "### Multisim \n",
    "\n",
    "It is typical to want to test many interventions and compared with a baseline simulation wihtout the intervention. FPsim has the MultiSim class which handles the running of multiple simulations, and provides mechanisms to plot the results together to facilitate comparison. We will use this class here. But first, let's define each of our individual simulations. To distiguish each simulation in the plots, we will pass one more argument to the sim: its 'label'.  "
   ]
  },
  {
   "cell_type": "markdown",
   "id": "d4a669c0-cdb8-4004-a17a-7c2eddd78171",
   "metadata": {},
   "source": [
    "#### 1. A simulation without intervention (baseline)\n",
    "We define our baseline simulation as s1, without any interventions."
   ]
  },
  {
   "cell_type": "code",
   "execution_count": null,
   "id": "f2f41691-f8ed-447c-930e-c92e6d3f9f2d",
   "metadata": {},
   "outputs": [],
   "source": [
    "s1 = fp.Sim(pars=pars, contraception_module=method_choice, label=\"Baseline\")"
   ]
  },
  {
   "cell_type": "markdown",
   "id": "19ceee34-2bb1-48f0-85df-f9854619b84c",
   "metadata": {},
   "source": [
    "#### 2. A simulation with an intervention that changes the EFFICACY of a method\n",
    "\n",
    "First let's have a look at which contraceptive methods we have available"
   ]
  },
  {
   "cell_type": "code",
   "execution_count": null,
   "id": "cc4fb846-9b90-4a24-884f-0e2a071a2ded",
   "metadata": {},
   "outputs": [],
   "source": [
    "Methods = fp.make_methods().Methods\n",
    "for method in Methods.values(): print(f\"{method.idx}: {method.label}\")"
   ]
  },
  {
   "cell_type": "raw",
   "id": "05648b97-887d-49a1-8bc0-fec6059faf20",
   "metadata": {},
   "source": [
    "Then, let's add an intervention that changes the efficacy of injectables., and create a new sim\n",
    "with that intervention, called s2."
   ]
  },
  {
   "cell_type": "code",
   "execution_count": null,
   "id": "9e62c451-5308-4e4d-9a1c-62093d1e236c",
   "metadata": {},
   "outputs": [],
   "source": [
    "change_efficacy_intervention = fp.update_methods(eff={\"Injectables\": 0.99}, year=2010)  # new efficacy starts in 2010\n",
    "\n",
    "s2 = fp.Sim(pars=pars, contraception_module=method_choice, \n",
    "                 interventions=change_efficacy_intervention, \n",
    "                 label=\"More effective Injectables\")"
   ]
  },
  {
   "cell_type": "markdown",
   "id": "ca790eef-51fe-4ae5-8a3a-169659be7eac",
   "metadata": {},
   "source": [
    "#### 3. A simulation with an intervention that changes the distribution of DURATIONS on the method\n"
   ]
  },
  {
   "cell_type": "markdown",
   "id": "f9586e73-c782-4e42-9be5-05ca68b96a12",
   "metadata": {},
   "source": [
    "Now, let's try changing a different aspect of the method: the distribution of time-on-method, which is how we specify the duration women use a method. Time-on-method is parameterized as a distribution, which can be either exponential, lognormal, loglogistic, gamma, or weibull. Which distribution is selected for each contraceptiove method, as well as the default parameters used to inform the distribution, is calucalted based on an analysis of DHS calendar data. This analysis is shown in `time_on_method.R` in the <i>locations/data_processing</i> folder. To impact the duration of use manually, you can set the relevant parameters manually: "
   ]
  },
  {
   "cell_type": "code",
   "execution_count": null,
   "id": "51f53c8c-f6fe-4ae7-b58e-7b1bbbf5c469",
   "metadata": {},
   "outputs": [],
   "source": [
    "# The baseline duration for Injectables is a lognormal with parameter par1=2, and par2=3\n",
    "change_duration_intervention = fp.update_methods(dur_use={'Injectables': dict(dist='lognormal', par1=3, par2=0.2)}, year=2010) \n",
    "\n",
    "# Define a simulaiton for this intervention called s3\n",
    "s3 = fp.Sim(pars=pars, contraception_module=method_choice, \n",
    "                 interventions=change_duration_intervention, \n",
    "                 label=\"Longer time on Injectables\")"
   ]
  },
  {
   "attachments": {},
   "cell_type": "markdown",
   "id": "22d79679-37a0-47ba-9841-7b9717444449",
   "metadata": {},
   "source": [
    "#### 4. A simulation with an intervention that changes the METHOD MIX \n",
    "Finally, let's add a scenrio that impacts the method mix, or the probability of selecting a specific method when a woman starts using one. Method mix is defined as a set of matrices, depending on the method she used previously, her postpartum status, and age. This intervention replaces all of those with a single matrix that you define. It is a set of numbers representing the percent of women that will choose (in this order):\n",
    "* BTL\n",
    "* Condoms\n",
    "* Implants\n",
    "* Injectables\n",
    "* IUDs\n",
    "* Other modern\n",
    "* Other traditional\n",
    "* Pill\n",
    "* Withdrawal\n",
    "You can specify the percent who chooses each of these methods, and the year to start using this percentage, as follows:"
   ]
  },
  {
   "cell_type": "code",
   "execution_count": null,
   "id": "c3d01f7e-4982-490f-b0e4-3a14ed335f94",
   "metadata": {},
   "outputs": [],
   "source": [
    "# The values in method_mix should add up to 1, but if they don't, the intervention update_methods() will autamotailly normalize them to add up to 1. \n",
    "change_mix = fp.update_methods(method_mix=[0.25, 0.05, 0.05, 0.0, 0.05, 0.3, 0.1, 0.1, 0.0], year=2010.0)\n",
    "\n",
    "# Define a simulation for this intervention called s4\n",
    "s4 = fp.Sim(pars=pars, contraception_module=method_choice, \n",
    "            interventions=change_mix, \n",
    "            label='Different mix')"
   ]
  },
  {
   "cell_type": "markdown",
   "id": "26c61282-4de2-46ca-811b-e9b6ae83ee65",
   "metadata": {},
   "source": [
    "#### Run multiple simulations\n",
    "To run all of these simulaitons together, create a list of all the simulations you want to include, the use msim to run a multisim analysis as follows:"
   ]
  },
  {
   "cell_type": "code",
   "execution_count": null,
   "id": "fad8b331-65ec-4138-9b3e-3a15adbfb857",
   "metadata": {},
   "outputs": [],
   "source": [
    "simlist = sc.autolist([s1, s2, s3, s4])\n",
    "msim = fp.MultiSim(sims=simlist)\n",
    "msim.run(serial=True, compute_stats=False)"
   ]
  },
  {
   "cell_type": "markdown",
   "id": "e7907733-cf4b-47af-a811-304cfc008146",
   "metadata": {},
   "source": [
    "Plot contracetive use for all of the simulations you just ran. "
   ]
  },
  {
   "cell_type": "code",
   "execution_count": null,
   "id": "192434aa-3857-4cda-ae15-22805a51b198",
   "metadata": {},
   "outputs": [],
   "source": [
    "msim.plot(to_plot='cpr');"
   ]
  }
 ],
 "metadata": {
  "kernelspec": {
   "display_name": "Python 3 (Spyder)",
   "language": "python3",
   "name": "python3"
  },
  "language_info": {
   "codemirror_mode": {
    "name": "ipython",
    "version": 3
   },
   "file_extension": ".py",
   "mimetype": "text/x-python",
   "name": "python",
   "nbconvert_exporter": "python",
   "pygments_lexer": "ipython3",
   "version": "3.12.3"
  }
 },
 "nbformat": 4,
 "nbformat_minor": 5
}
