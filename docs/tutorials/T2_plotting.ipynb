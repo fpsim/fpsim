{
 "cells": [
  {
   "cell_type": "markdown",
   "id": "6d00f195",
   "metadata": {},
   "source": [
    "# T2 - Plotting with FPsim\n",
    "\n",
    "Basic plotting with FPsim is pretty straightforward. \n",
    "\n",
    "If you're new to FPsim, please start with tutorial T1 in order to install FPsim and learn how to run a basic simulation.\n",
    "\n",
    "The basic design philosophy of FPsim is: **common tasks should be simple**. For example:\n",
    "\n",
    "- Defining parameters\n",
    "- Running a simulation\n",
    "- Plotting results\n",
    "\n",
    "In tutorial T1 we learned how to define parameters and run a simulation. In this tutorial, we will take on our third simple task and plot the results of a simulation."
   ]
  },
  {
   "cell_type": "markdown",
   "id": "50d6ae1f",
   "metadata": {},
   "source": [
    "\n",
    "In tutorial T1, we showed you that to create, run, and plot a sim with default options is just:"
   ]
  },
  {
   "cell_type": "code",
   "execution_count": null,
   "id": "9809c4ea",
   "metadata": {},
   "outputs": [],
   "source": [
    "import fpsim as fp\n",
    "\n",
    "sim = fp.Sim()\n",
    "sim.run()\n",
    "fig = sim.plot()"
   ]
  },
  {
   "cell_type": "markdown",
   "id": "de4d4e4d",
   "metadata": {},
   "source": [
    "Let's take a look at the basic suite of plotting options, once we've run our initial simulation.\n",
    "The basic plot function will plot births, deaths, and mcpr over the entire simulation.\n",
    "There are also pre-defined options that combine similar types of output. For instance, 'cpr' will provide all definitions we use for contraceptive prevalence rates - mCPR, CPR, and aCPR. 'apo' stands for adverse pregnancy outcomes, and will plot infant deaths, stillbirths, and abortions.\n",
    " "
   ]
  },
  {
   "cell_type": "code",
   "execution_count": null,
   "id": "9eb41301",
   "metadata": {},
   "outputs": [],
   "source": [
    "sim.plot()\n",
    "sim.plot('cpr')\n",
    "sim.plot('apo')"
   ]
  },
  {
   "cell_type": "markdown",
   "id": "993e85ce",
   "metadata": {},
   "source": [
    "We can also plot our key output for specific (pre-defined) age groups, since we know that family planning and building changes over womens' lives. Here, we are plotting age-specific contraceptive prevalence."
   ]
  },
  {
   "cell_type": "code",
   "execution_count": null,
   "id": "3d36346b",
   "metadata": {},
   "outputs": [],
   "source": [
    "# CK: not sure if we want to enable this\n",
    "# sim.plot('as_cpr')\n"
   ]
  },
  {
   "cell_type": "markdown",
   "id": "ecfe8634",
   "metadata": {},
   "source": [
    "This will generate a results dictionary `sim.results`. For example, the number of pregnancies in the sim can be found using `sim.results['pregnancies']`.\n",
    "\n",
    "Rather than creating a parameter dictionary, any valid parameter can also be passed to the sim directly. For example, exactly equivalent to the above is:"
   ]
  }
 ],
 "metadata": {
  "kernelspec": {
   "display_name": "Python 3 (ipykernel)",
   "language": "python",
   "name": "python3"
  },
  "language_info": {
   "codemirror_mode": {
    "name": "ipython",
    "version": 3
   },
   "file_extension": ".py",
   "mimetype": "text/x-python",
   "name": "python",
   "nbconvert_exporter": "python",
   "pygments_lexer": "ipython3",
   "version": "3.9.13"
  }
 },
 "nbformat": 4,
 "nbformat_minor": 5
}
