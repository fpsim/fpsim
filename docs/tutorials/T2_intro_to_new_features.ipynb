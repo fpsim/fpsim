{
 "cells": [
  {
   "metadata": {},
   "cell_type": "markdown",
   "source": [
    "# Getting started - Requirements\n",
    "Python (🐍):  This assumes that you have a python environment installed.\n",
    "\n",
    "To install FPsim, you first need to clone or download a copy of the source code from https://github.com/fpsim/fpsim\n",
    " \n",
    "```\n",
    "git clone -b <branch> --single-branch https://github.com/fpsim/fpsim.git\n",
    "cd fpsim\n",
    "pip install -e .\n",
    "```\n",
    "\n",
    "If it worked, you should be able to import fpsim with `import fpsim as fp`."
   ],
   "id": "9278ca4b6e0e305a"
  },
  {
   "cell_type": "markdown",
   "id": "5f4bf621",
   "metadata": {},
   "source": [
    "<div class=\"alert alert-info\">\n",
    "    \n",
    "An interactive version of this notebook is available on [Google Colab](https://colab.research.google.com/github/fpsim/fpsim/blob/main/docs/tutorials/T2_intro_to_new_features.ipynb?install=fpsim) or [Binder](https://mybinder.org/v2/gh/fpsim/fpsim/HEAD?labpath=docs%2Ftutorials%2FT2_intro_to_new_features.ipynb).\n",
    "    \n",
    "</div>"
   ]
  },
  {
   "cell_type": "markdown",
   "id": "8068038b-62c2-42c8-9053-ffe4bc2bb888",
   "metadata": {},
   "source": [
    "# Understanding contraceptive use \n",
    "\n",
    "There are many factors that influence women's decisions about contraceptive use. FPsim 2.0 brings enhancements that incorporate these factors. It also provides users with new flexibility for defining their own logic for how women make contraceptive decisions. We will illustrate some of this functionality in this tutorial.\n",
    "\n",
    "First, some terminology. All of the logic for how women make contraception decisions is kept within a `ContraceptiveChoice` module. The default `ContraceptiveChoice` module within FPsim is `StandardChoice`. There is also a more detailed `EmpoweredChoice` module in an [analysis repository](https://github.com/fpsim/kenya_empowerment)."
   ]
  },
  {
   "cell_type": "markdown",
   "id": "466417cf",
   "metadata": {},
   "source": [
    "## Standard contraceptive choice\n",
    "\n",
    "This is the default option for how contraceptive decisions are made in FPsim. Under this option, a woman's decision about whether to use contraception depends on her age, whether or not she has ever used contraception before, her level of education, her wealth quintile, her parity, and her geographical setting (urban/rural). Data on these variables is available from the Demographic and Health Survey (DHS). \n",
    "\n",
    "The snippet below illustrates how to set up and run a simulation using the `StandardChoice` module."
   ]
  },
  {
   "metadata": {},
   "cell_type": "code",
   "source": [
    "# Import FPsim and define the baseline parameters\n",
    "import fpsim as fp\n",
    "location = 'kenya'\n",
    "pars = dict(location=location, n_agents=500, start_year=1980, end_year=2020, seed=1)\n",
    "\n",
    "# Define the contraceptive choice module and the education module.\n",
    "choice = fp.StandardChoice(location=location)\n",
    "edu = fp.Education(location=location)\n",
    "\n",
    "# Make and run sim\n",
    "s = fp.Sim(pars, contraception_module=choice, education_module=edu)\n",
    "s.run()"
   ],
   "id": "6814fc4ff6f87e16",
   "outputs": [],
   "execution_count": null
  },
  {
   "cell_type": "markdown",
   "id": "379b03ab-1782-43f4-b3f1-49b22d1cec4c",
   "metadata": {},
   "source": [
    "## The SimpleChoice and RandomChoice modules\n",
    "\n",
    "Whilst the `StandardChoice` module will be appropriate for most analyses, we have also included two simpler versions, `SimpleChoice` and `RandomChoice`. \n",
    "\n",
    "In the `SimpleChoice` module, a woman's decision about whether to use contraception only depends on her age and whether or not she has ever used contraception before. Compared to the `StandardChoice` module, the `SimpleChoice` module disregards the influence of women's education, wealth, parity, and urban/rural status on her contraceptive decisions.\n",
    "\n",
    "The `RandomChoice` module is included only for testing purposes. In this module, women choose contraception at random. This module can be useful for sanity checking that the more realistic modules behave as expected.\n",
    "\n",
    "It is recommended that use of the `SimpleChoice` and `RandomChoice` modules is reserved for testing purposes, as the `StandardChoice` captures more of the factors relevant for contraceptive decision making. Nevertheless, the example below shows how to use the `SimpleChoice` module. This example can also be considered as a template for anyone wishing to define their own contraceptive choice module."
   ]
  },
  {
   "metadata": {},
   "cell_type": "code",
   "source": [
    "method_choice = fp.SimpleChoice(location=location)\n",
    "sim = fp.Sim(pars=pars, contraception_module=method_choice, analyzers=fp.lifeof_recorder())\n",
    "sim.run()\n",
    "\n",
    "_ = sim.plot(to_plot='cpr');\n",
    "_ = sim.analyzers[0].plot(index=1); # plot the life events of one woman"
   ],
   "id": "5ed9cc1f59250368",
   "outputs": [],
   "execution_count": null
  },
  {
   "metadata": {},
   "cell_type": "markdown",
   "source": "",
   "id": "800bb7ad2562e336"
  },
  {
   "cell_type": "markdown",
   "id": "ec5e12cb",
   "metadata": {},
   "source": [
    "NOTE: FPsim 2.0 was specifically designed to support the analyses in the related [analysis repository](https://github.com/fpsim/kenya_empowerment), which address two evolutions in the current family planning research landscape: centering women’s intentions and preferences; and considering the broader impact of family planning on women’s empowerment. This repository also contains more details on how to define a custom contraceptive choice module.\n",
    "\n",
    "In the next tutorial, you wil learn how to define and run an intervention."
   ]
  }
 ],
 "metadata": {
  "kernelspec": {
   "display_name": "Python 3 (Spyder)",
   "language": "python3",
   "name": "python3"
  },
  "language_info": {
   "codemirror_mode": {
    "name": "ipython",
    "version": 3
   },
   "file_extension": ".py",
   "mimetype": "text/x-python",
   "name": "python",
   "nbconvert_exporter": "python",
   "pygments_lexer": "ipython3",
   "version": "3.12.3"
  }
 },
 "nbformat": 4,
 "nbformat_minor": 5
}
