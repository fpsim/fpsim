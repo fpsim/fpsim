{
 "cells": [
  {
   "cell_type": "markdown",
   "id": "c3487570-fae7-4f82-ae0c-9bbbd0f57e85",
   "metadata": {},
   "source": [
    "# Getting started - Requirements\n",
    "Python (🐍):  This assumes that you have a python environment installed. If you haven't, we recommend installing [Anaconda](https://docs.anaconda.com/anaconda/install/).\n",
    "\n",
    "FPsim (♀️): This tutorial uses [FPsim v2.0](https://github.com/fpsim/fpsim/tree/rc2.0-methodtime) (still under development). \n",
    "\n",
    "To install, you first need to clone or download the a copy of the source code from https://github.com/fpsim/fpsim/\n",
    " \n",
    "```\n",
    "git clone -b rc2.0-methodtime --single-branch https://github.com/fpsim/fpsim.git\n",
    "cd fpsim\n",
    "pip install -e .\n",
    "```\n",
    "\n",
    "If it worked, you should be able to import fpsim with `import fpsim as fp`."
   ]
  },
  {
   "cell_type": "markdown",
   "id": "5f4bf621",
   "metadata": {},
   "source": [
    "<div class=\"alert alert-info\">\n",
    "    \n",
    "An interactive version of this notebook is available on [Google Colab](https://colab.research.google.com/github/fpsim/fpsim/blob/main/docs/tutorials/T2_intro_to_new_features.ipynb?install=fpsim) or [Binder](https://mybinder.org/v2/gh/fpsim/fpsim/HEAD?labpath=docs%2Ftutorials%2FT2_intro_to_new_features.ipynb).\n",
    "    \n",
    "</div>"
   ]
  },
  {
   "cell_type": "markdown",
   "id": "8068038b-62c2-42c8-9053-ffe4bc2bb888",
   "metadata": {},
   "source": [
    "## What's new?\n",
    "\n",
    "Contraceptive technologies not only affect fertility but also influence women’s empowerment. FPsim 2.0 brings enhancements that address two related evolutions in the current family planning research landscape: centering women’s intentions and preferences; and considering the broader impact of family planning on women’s empowerment. \n",
    "\n",
    "\n",
    "### Contraception and fertility intention (<mark style=\"background-color: honeydew; color: green;\">NEW!</mark>)\n",
    "In FPsim 2.0 Each woman has two new attributes that reflect her preferences: intent to use contraception in the next 12 months (contraceptive intent), and desire for a pregnancy in the next 12 months (fertility intent). \n",
    "\n",
    "### Empowerment metrics (<mark style=\"background-color: honeydew; color: green;\">NEW!</mark>)\n",
    "We included several empowerment metrics into the model (we'll see those below). These include survey questions measuring components of work, decision making autonomy, and financial autonomy. "
   ]
  },
  {
   "cell_type": "markdown",
   "id": "6375cb4e-225e-4c06-9ede-679d117df507",
   "metadata": {},
   "source": [
    "<mark style=\"background-color: cornsilk; color: firebrick;\">NOTE</mark>: The new features in FPsim 2.0 work for Kenya-like settings. More locations will become available in the future. "
   ]
  },
  {
   "cell_type": "markdown",
   "id": "e990cc1d-84ac-4580-baff-d3beef2af729",
   "metadata": {},
   "source": [
    "### Running a simulation with the Empowerment module \n",
    "\n",
    "As we saw in the previous tutorial we first import FPsim, and then define the basic parameters."
   ]
  },
  {
   "cell_type": "code",
   "execution_count": null,
   "id": "caf8907e-d8be-4a77-ae4f-6f48aa3013f2",
   "metadata": {},
   "outputs": [],
   "source": [
    "import fpsim as fp\n",
    "\n",
    "pars = dict(\n",
    "    n_agents   = 1_000,\n",
    "    location   = 'kenya',\n",
    "    start_year = 2000, \n",
    "    end_year   = 2020,\n",
    ")\n"
   ]
  },
  {
   "cell_type": "markdown",
   "id": "58556979-b376-4310-8b6a-cb85893b0c37",
   "metadata": {},
   "source": [
    "In the same way we define parameters, we need explicitly tell FPsim to use the Empowerment module and we will use another object specially made to collect the empowerment metrics and visualise them. "
   ]
  },
  {
   "cell_type": "code",
   "execution_count": null,
   "id": "e08ca41c-2283-4942-bf33-40a67351a112",
   "metadata": {},
   "outputs": [],
   "source": [
    "empwr = fp.Empowerment()  # The module that will equip women with empowerment attributes\n",
    "empwr_anz = fp.empowerment_recorder() "
   ]
  },
  {
   "cell_type": "markdown",
   "id": "8c54ca20-fe87-465d-8d05-5157c8924155",
   "metadata": {},
   "source": [
    "And now we combine all these ingredients into the Sim and run it"
   ]
  },
  {
   "cell_type": "code",
   "execution_count": null,
   "id": "f04e4338-b3fc-4bea-a8e7-11f247ae4602",
   "metadata": {},
   "outputs": [],
   "source": [
    "sim = fp.Sim(pars=pars, empowerment_module=empwr, analyzers=empwr_anz)\n",
    "sim.run()"
   ]
  },
  {
   "cell_type": "markdown",
   "id": "675f823e-d7b6-44a8-abad-7b8e5c6cf5a9",
   "metadata": {},
   "source": [
    "### Visualizing empowerment results"
   ]
  },
  {
   "cell_type": "code",
   "execution_count": null,
   "id": "0fa7dc2d-8508-460d-b0bf-08bbaf3d1bac",
   "metadata": {},
   "outputs": [],
   "source": [
    "empwr_results = sim.get_analyzers()[0]"
   ]
  },
  {
   "cell_type": "code",
   "execution_count": null,
   "id": "86ecf2e8-5543-4867-b9fc-f377fd204cb0",
   "metadata": {},
   "outputs": [],
   "source": [
    "_ = empwr_results.plot(fig_args={'figsize': (15, 15)});"
   ]
  },
  {
   "cell_type": "markdown",
   "id": "379b03ab-1782-43f4-b3f1-49b22d1cec4c",
   "metadata": {},
   "source": [
    "### Running a simulation with the SimpleChoice module\n",
    "This module defines how a woman chooses which method to use is she does begin to use contraception. The choice of method depends on multiple factors, including age and life events such as pregnancies. We use data from the contraceptive calendar in the 2022 Kenya Demographic and Health Survey (DHS). \n"
   ]
  },
  {
   "cell_type": "code",
   "execution_count": null,
   "id": "58478d34-b6d6-417e-a340-8c2f1766ec02",
   "metadata": {},
   "outputs": [],
   "source": [
    "pars = dict(\n",
    "    n_agents   = 1_000,\n",
    "    location   = 'kenya',\n",
    "    start_year = 1961, \n",
    "    end_year   = 2020,\n",
    "    exposure_factor = 1.0  # Overall scale factor on probability of becoming pregnant\n",
    ")\n"
   ]
  },
  {
   "cell_type": "markdown",
   "id": "aaf64399-4e02-4ca1-b961-2e6c4f37c1ea",
   "metadata": {},
   "source": [
    "#### Define the strategy used to select a contraceptive method\n"
   ]
  },
  {
   "cell_type": "code",
   "execution_count": null,
   "id": "220eae59-af99-4e70-8339-2a11f7843df5",
   "metadata": {},
   "outputs": [],
   "source": [
    "method_choice = fp.SimpleChoice(location=pars['location'])\n",
    "sim = fp.Sim(pars=pars, contraception_module=method_choice, analyzers=fp.lifeof_recorder())\n",
    "sim.run()"
   ]
  },
  {
   "cell_type": "code",
   "execution_count": null,
   "id": "ea548b07-ba18-4611-81c1-e73207ee79ac",
   "metadata": {},
   "outputs": [],
   "source": [
    "_ = sim.plot(to_plot='cpr');\n",
    "_ = sim.get_analyzers()[0].plot(index=1); # plot the life events of one woman"
   ]
  }
 ],
 "metadata": {
  "kernelspec": {
   "display_name": "base",
   "language": "python",
   "name": "python3"
  },
  "language_info": {
   "codemirror_mode": {
    "name": "ipython",
    "version": 3
   },
   "file_extension": ".py",
   "mimetype": "text/x-python",
   "name": "python",
   "nbconvert_exporter": "python",
   "pygments_lexer": "ipython3",
   "version": "3.12.2"
  }
 },
 "nbformat": 4,
 "nbformat_minor": 5
}
