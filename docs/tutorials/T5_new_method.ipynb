{
 "cells": [
  {
   "cell_type": "markdown",
   "id": "1576f8b4",
   "metadata": {},
   "source": [
    "<div class=\"alert alert-info\">\n",
    "    \n",
    "An interactive version of this notebook is available on [Google Colab](https://colab.research.google.com/github/fpsim/fpsim/blob/main/docs/tutorials/T5_new_method.ipynb?install=fpsim) or [Binder](https://mybinder.org/v2/gh/fpsim/fpsim/HEAD?labpath=docs%2Ftutorials%2FT5_new_method.ipynb).\n",
    "    \n",
    "</div>"
   ]
  },
  {
   "cell_type": "markdown",
   "id": "7db2b1e9-a4b4-455e-9d4c-5f6c765a9dae",
   "metadata": {},
   "source": [
    "# Adding a new method \n",
    "At this point, you should be able to ru FPsim, create interventions, and set eligilble subpopulations for that inervention. Now, let's see how to create a different type of intervention: introducing a new contraceptive method. First, import the model."
   ]
  },
  {
   "cell_type": "code",
   "execution_count": null,
   "id": "5546b773-b520-4436-bc64-ce6f9c65d5f6",
   "metadata": {},
   "outputs": [],
   "source": [
    "import fpsim as fp\n",
    "import sciris as sc"
   ]
  },
  {
   "cell_type": "markdown",
   "id": "07064d85-0727-4337-9c58-10cdeb091502",
   "metadata": {},
   "source": [
    "We will start by making a copy of the default list of contraceptive methods used by FPsim. We need this so that we can add our new metod to the list."
   ]
  },
  {
   "cell_type": "code",
   "execution_count": null,
   "id": "fb7fa8a1-3232-48e1-a454-01c99333a9d0",
   "metadata": {},
   "outputs": [],
   "source": [
    "my_methods = fp.make_methods()"
   ]
  },
  {
   "cell_type": "markdown",
   "id": "fe7898c8-9a63-42fe-b222-0481fd3ac5bf",
   "metadata": {},
   "source": [
    "### Define a new method\n",
    "To define and parameterize your new method, you need to enter attributes:\n",
    "1. A simple name, which needs to be concise because it will be used inside the code.\n",
    "2. Efficacy, defined as a percent.\n",
    "3. Whether it is a modern method or not, defined as true or false.\n",
    "4. Duration of use, or time on that method, which can me defined as a number of months, or a distribution. If you choose a distribution, you need to define the type of distribution (e.g. lognormal, loglogistic, ...) as well as the parameters for that distribution. See tutorial three for more information on time on method.\n",
    "5. A label, which can be more descriptive as it is used in plots\n",
    "\n",
    "You create the new method using code like this:"
   ]
  },
  {
   "cell_type": "code",
   "execution_count": null,
   "id": "252f91ca-69a8-40a5-818b-f6ea372cc3e0",
   "metadata": {},
   "outputs": [],
   "source": [
    "new_method = fp.Method(name='new', efficacy=0.96,  modern=True,  dur_use=15, label='New method')"
   ]
  },
  {
   "cell_type": "markdown",
   "id": "ca0800eb-11c3-42d6-a6a9-73c7867ab200",
   "metadata": {},
   "source": [
    "Add your method to the list of methods in the model."
   ]
  },
  {
   "cell_type": "code",
   "execution_count": null,
   "id": "31fba8a1-bc23-468e-a137-8511a6218bf4",
   "metadata": {},
   "outputs": [],
   "source": [
    "my_methods += new_method"
   ]
  },
  {
   "cell_type": "markdown",
   "id": "141d5b09-2801-4121-bb2b-54e71ade7379",
   "metadata": {},
   "source": [
    "The final thing we need to define for our new method is the method mix. This tell the model which method a woman will choose when she slects a method. We need an array of percentages for each method, incuding the new method."
   ]
  },
  {
   "cell_type": "code",
   "execution_count": null,
   "id": "6ac0013b-59f9-4964-8182-1953ce7d96f8",
   "metadata": {},
   "outputs": [],
   "source": [
    "# Note: if we do not define this method mix, the contraception module will use 1/(number of methods) for every method.   \n",
    "method_choice = fp.RandomChoice(methods=my_methods, pars={'method_mix': [0.25, 0.25, 0, 0, 0, 0, 0, 0, 0, 0.5]})"
   ]
  },
  {
   "cell_type": "markdown",
   "id": "0902ee88-d8c7-4ad4-ac35-f83fc543f87e",
   "metadata": {},
   "source": [
    "# Run your simulations\n",
    "Define the baseline settings for your analysis."
   ]
  },
  {
   "cell_type": "code",
   "execution_count": null,
   "id": "97c48000-7e69-4352-aec5-ea5ac0064575",
   "metadata": {},
   "outputs": [],
   "source": [
    "pars = dict(\n",
    "    n_agents   = 10_000,\n",
    "    start_year = 2000, \n",
    "    end_year   = 2012,\n",
    "    exposure_factor = 1.0  # Overall scale factor on probability of becoming pregnant\n",
    ")"
   ]
  },
  {
   "cell_type": "markdown",
   "id": "15556285-e2b3-4b72-b33d-780a59475c40",
   "metadata": {},
   "source": [
    "Define two simulaitons: s1, the baseline with no interventions, and s2, adding the new method we defined above as the contraception module. Then run both of these together."
   ]
  },
  {
   "cell_type": "code",
   "execution_count": null,
   "id": "34ce3e28cf982794",
   "metadata": {},
   "outputs": [],
   "source": [
    "s1 = fp.Sim(pars=pars, label='Baseline')\n",
    "s2 = fp.Sim(pars=pars, contraception_module=method_choice, label='New Method')\n",
    "simlist = sc.autolist([s1, s2])\n",
    "msim = ss.MultiSim(sims=simlist)\n",
    "msim.run(parallel=False)"
   ]
  },
  {
   "cell_type": "markdown",
   "id": "897efe4602b40a44",
   "metadata": {},
   "source": [
    "Take a look at the contraceptive use from your simulations."
   ]
  },
  {
   "cell_type": "code",
   "execution_count": null,
   "id": "79235a0d58db78cf",
   "metadata": {},
   "outputs": [],
   "source": [
    "msim.plot(key='cpr');"
   ]
  }
 ],
 "metadata": {
  "kernelspec": {
   "display_name": "Python 3 (Spyder)",
   "language": "python3",
   "name": "python3"
  },
  "language_info": {
   "codemirror_mode": {
    "name": "ipython",
    "version": 3
   },
   "file_extension": ".py",
   "mimetype": "text/x-python",
   "name": "python",
   "nbconvert_exporter": "python",
   "pygments_lexer": "ipython3",
   "version": "3.12.3"
  }
 },
 "nbformat": 4,
 "nbformat_minor": 5
}
