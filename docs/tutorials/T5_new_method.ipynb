{
 "cells": [
  {
   "cell_type": "markdown",
   "id": "680a428e-a077-4d5c-87a9-07256f63b104",
   "metadata": {},
   "source": [
    "# Getting started - Requirements\n",
    "Python (🐍):  This assumes that you have a python environment installed. If you haven't, we recommend installing [Anaconda](https://docs.anaconda.com/anaconda/install/).\n",
    "\n",
    "FPsim (♀️): This tutorial uses [FPsim v2.0](https://github.com/fpsim/fpsim/tree/rc2.0-methodtime) (still under development). \n",
    "\n",
    "To install, you first need to clone or download the a copy of the source code from https://github.com/fpsim/fpsim\n",
    " \n",
    "```\n",
    "git clone -b rc2.0-methodtime --single-branch https://github.com/fpsim/fpsim.git\n",
    "cd fpsim\n",
    "pip install -e .\n",
    "```\n",
    "\n",
    "If it worked, you should be able to import fpsim with `import fpsim as fp`."
   ]
  },
  {
   "cell_type": "markdown",
   "id": "1576f8b4",
   "metadata": {},
   "source": [
    "<div class=\"alert alert-info\">\n",
    "    \n",
    "An interactive version of this notebook is available on [Google Colab](https://colab.research.google.com/github/fpsim/fpsim/blob/main/docs/tutorials/T5_new_method.ipynb?install=fpsim) or [Binder](https://mybinder.org/v2/gh/fpsim/fpsim/HEAD?labpath=docs%2Ftutorials%2FT5_new_method.ipynb).\n",
    "    \n",
    "</div>"
   ]
  },
  {
   "cell_type": "markdown",
   "id": "7db2b1e9-a4b4-455e-9d4c-5f6c765a9dae",
   "metadata": {},
   "source": [
    "# Let's add a new method "
   ]
  },
  {
   "cell_type": "code",
   "execution_count": null,
   "id": "5546b773-b520-4436-bc64-ce6f9c65d5f6",
   "metadata": {},
   "outputs": [],
   "source": [
    "import fpsim as fp\n",
    "import sciris as sc"
   ]
  },
  {
   "cell_type": "code",
   "execution_count": null,
   "id": "fb7fa8a1-3232-48e1-a454-01c99333a9d0",
   "metadata": {},
   "outputs": [],
   "source": [
    "# This makes a copy of the default list of methods used in FPsim by default\n",
    "my_methods = fp.make_methods().Methods"
   ]
  },
  {
   "cell_type": "markdown",
   "id": "fe7898c8-9a63-42fe-b222-0481fd3ac5bf",
   "metadata": {},
   "source": [
    "Define the new method including a simple name (will be used inside the code), its efficacy, whether it is a moder method or not, duration (this can be a number or a distribution) and a label (will be used in plots)."
   ]
  },
  {
   "cell_type": "code",
   "execution_count": null,
   "id": "252f91ca-69a8-40a5-818b-f6ea372cc3e0",
   "metadata": {},
   "outputs": [],
   "source": [
    "new_method = fp.Method(name='new', efficacy=0.96,  modern=True,  dur_use=15, label='New method')"
   ]
  },
  {
   "cell_type": "code",
   "execution_count": null,
   "id": "31fba8a1-bc23-468e-a137-8511a6218bf4",
   "metadata": {},
   "outputs": [],
   "source": [
    "# Add your new method to the list\n",
    "my_methods += new_method"
   ]
  },
  {
   "cell_type": "code",
   "execution_count": null,
   "id": "6ac0013b-59f9-4964-8182-1953ce7d96f8",
   "metadata": {},
   "outputs": [],
   "source": [
    "# We pass the new list of methods to the contraception selection module. We can also pass the method_mix with the probabilities of each method.\n",
    "# If we do not pass method_mix, the contraception module will use 1/number of methods for every method.   \n",
    "method_choice = fp.RandomChoice(methods=my_methods, pars={'method_mix': [0.25, 0.25, 0, 0, 0, 0, 0, 0, 0, 0.5]})"
   ]
  },
  {
   "cell_type": "code",
   "execution_count": null,
   "id": "97c48000-7e69-4352-aec5-ea5ac0064575",
   "metadata": {},
   "outputs": [],
   "source": [
    "pars = dict(\n",
    "    n_agents   = 10_000,\n",
    "    start_year = 2000, \n",
    "    end_year   = 2012,\n",
    "    exposure_factor = 1.0  # Overall scale factor on probability of becoming pregnant\n",
    ")\n"
   ]
  },
  {
   "cell_type": "code",
   "execution_count": null,
   "id": "8d73353b-85e5-4eeb-bb8d-77560cf36a33",
   "metadata": {},
   "outputs": [],
   "source": [
    "s1 = fp.Sim(pars=pars, label='Baseline')\n",
    "s2 = fp.Sim(pars=pars, contraception_module=method_choice, label='New Method')\n",
    "simlist = sc.autolist([s1, s2])\n",
    "msim = fp.MultiSim(sims=simlist)\n",
    "msim.run(serial=True, compute_stats=False, die=False)"
   ]
  },
  {
   "cell_type": "code",
   "execution_count": null,
   "id": "ec9595da-6f6c-4f51-b8fb-542ca448da1a",
   "metadata": {},
   "outputs": [],
   "source": [
    "msim.plot(to_plot='cpr');"
   ]
  }
 ],
 "metadata": {
  "kernelspec": {
   "display_name": "Python 3 (ipykernel)",
   "language": "python",
   "name": "python3"
  },
  "language_info": {
   "codemirror_mode": {
    "name": "ipython",
    "version": 3
   },
   "file_extension": ".py",
   "mimetype": "text/x-python",
   "name": "python",
   "nbconvert_exporter": "python",
   "pygments_lexer": "ipython3",
   "version": "3.10.12"
  }
 },
 "nbformat": 4,
 "nbformat_minor": 5
}
