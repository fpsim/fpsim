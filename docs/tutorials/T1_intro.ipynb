{
 "cells": [
  {
   "cell_type": "markdown",
   "id": "6339035a",
   "metadata": {},
   "source": [
    "# T1 - Getting started\n",
    "\n",
    "Installing and getting started with FPsim is quite simple. \n",
    "\n",
    "To install, just type `pip install -e .`. If it worked, you should be able to import FPsim with `import fpsim as fp`.\n",
    "\n",
    "The basic design philosophy of FPsim is: **common tasks should be simple**. For example:\n",
    "\n",
    "- Defining parameters\n",
    "- Running a simulation\n",
    "- Plotting results\n",
    "\n",
    "This tutorial walks you through how to define paramaters and run the simulation. The next tutorial will show you how to plot the results of a simulation."
   ]
  },
  {
   "cell_type": "markdown",
   "id": "68cf6d0c",
   "metadata": {},
   "source": [
    "## Hello world\n",
    "\n",
    "To create, run, and plot a sim with default options is just:"
   ]
  },
  {
   "cell_type": "code",
   "execution_count": null,
   "id": "5303a6e1",
   "metadata": {},
   "outputs": [],
   "source": [
    "import fpsim as fp\n",
    "\n",
    "sim = fp.Sim()\n",
    "sim.run()\n",
    "fig = sim.plot()"
   ]
  },
  {
   "cell_type": "markdown",
   "id": "0376ead0",
   "metadata": {},
   "source": [
    "## Defining parameters and running simulations\n",
    "\n",
    "Parameters are defined as a dictionary.\n",
    "In FPsim, we categorize our parameters as:\n",
    "\n",
    "Basic parameters \n",
    "Age limits \n",
    "Durations\n",
    "Pregnancy outcomes\n",
    "Fecundity and exposure\n",
    "MCPR\n",
    "\n",
    "The most common category of parameters to change in FPsim is the basic category, which includes the location (i.e. Senegal, northern India), the starting population, the starting year, and the initial number of agents. We can define thiese as: "
   ]
  },
  {
   "cell_type": "code",
   "execution_count": null,
   "id": "2f4f119b",
   "metadata": {},
   "outputs": [],
   "source": [
    "pars = dict(\n",
    "    n_agents   = 10_000,\n",
    "    location   = 'senegal',\n",
    "    start_year = 1960, \n",
    "    end_year   = 2020,\n",
    ")"
   ]
  },
  {
   "cell_type": "markdown",
   "id": "4597f833",
   "metadata": {},
   "source": [
    "Running a simulation is pretty easy. In fact, running a sim with the parameters we defined above is just:"
   ]
  },
  {
   "cell_type": "code",
   "execution_count": null,
   "id": "60984bd7",
   "metadata": {},
   "outputs": [],
   "source": [
    "sim = fp.Sim(pars)\n",
    "sim.run()"
   ]
  },
  {
   "cell_type": "markdown",
   "id": "aa7d6d27",
   "metadata": {},
   "source": [
    "This will generate a results dictionary `sim.results`. For example, the number of pregnancies in the sim can be found using `sim.results['pregnancies']`.\n",
    "\n",
    "Rather than creating a parameter dictionary, any valid parameter can also be passed to the sim directly. For example, exactly equivalent to the above is:"
   ]
  },
  {
   "cell_type": "code",
   "execution_count": null,
   "id": "c355e3c2",
   "metadata": {},
   "outputs": [],
   "source": [
    "sim = fp.Sim(n_agents=10e3, location='senegal', start_year=1960, end_year=2020)\n",
    "sim.run()"
   ]
  },
  {
   "cell_type": "markdown",
   "id": "e64a8814",
   "metadata": {},
   "source": [
    "You can mix and match too – pass in a parameter dictionary with default options, and then include other parameters as keywords (including overrides; keyword arguments take precedence). For example:"
   ]
  },
  {
   "cell_type": "code",
   "execution_count": null,
   "id": "8838ba31",
   "metadata": {},
   "outputs": [],
   "source": [
    "sim = fp.Sim(pars, n_agents=100) # Use parameters defined above, except start with 100 agents instead of 10,000\n",
    "sim.run()"
   ]
  },
  {
   "cell_type": "markdown",
   "id": "83da0a7b",
   "metadata": {},
   "source": [
    "Now you know how to set up an initial sim using FPsim. In the next tutorial, we will explore plotting options.\n"
   ]
  }
 ],
 "metadata": {
  "kernelspec": {
   "display_name": "Python 3 (ipykernel)",
   "language": "python",
   "name": "python3"
  },
  "language_info": {
   "codemirror_mode": {
    "name": "ipython",
    "version": 3
   },
   "file_extension": ".py",
   "mimetype": "text/x-python",
   "name": "python",
   "nbconvert_exporter": "python",
   "pygments_lexer": "ipython3",
   "version": "3.9.13"
  }
 },
 "nbformat": 4,
 "nbformat_minor": 5
}
